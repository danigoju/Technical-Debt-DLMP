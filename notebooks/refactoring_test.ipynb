{
 "cells": [
  {
   "cell_type": "code",
   "execution_count": 5,
   "id": "wrong-portland",
   "metadata": {},
   "outputs": [],
   "source": [
    "import pandas as pd\n",
    "import numpy as np\n",
    "import sqlite3"
   ]
  },
  {
   "cell_type": "code",
   "execution_count": 9,
   "id": "unnecessary-detection",
   "metadata": {},
   "outputs": [],
   "source": [
    "df = pd.read_csv(\"../src/data/td_V2_clean.csv\", encoding='utf8', engine='python')"
   ]
  },
  {
   "cell_type": "code",
   "execution_count": 39,
   "id": "enormous-crawford",
   "metadata": {},
   "outputs": [],
   "source": [
    "conn = sqlite3.connect('../src/data/td_V2.db')\n",
    "git_commits = pd.read_sql_query(\"SELECT * FROM GIT_COMMITS\",conn)\n",
    "szz_fault_inducing_commits = pd.read_sql_query(\"SELECT * FROM szz_fault_inducing_commits\",conn)\n",
    "refactoring_miner = pd.read_sql_query(\"SELECT * FROM refactoring_miner\",conn)\n",
    "refactoring_miner = refactoring_miner[refactoring_miner[\"COMMIT_HASH\"].isin(git_commits[\"COMMIT_HASH\"])]"
   ]
  },
  {
   "cell_type": "code",
   "execution_count": 26,
   "id": "comprehensive-supervisor",
   "metadata": {},
   "outputs": [
    {
     "data": {
      "text/html": [
       "<div>\n",
       "<style scoped>\n",
       "    .dataframe tbody tr th:only-of-type {\n",
       "        vertical-align: middle;\n",
       "    }\n",
       "\n",
       "    .dataframe tbody tr th {\n",
       "        vertical-align: top;\n",
       "    }\n",
       "\n",
       "    .dataframe thead th {\n",
       "        text-align: right;\n",
       "    }\n",
       "</style>\n",
       "<table border=\"1\" class=\"dataframe\">\n",
       "  <thead>\n",
       "    <tr style=\"text-align: right;\">\n",
       "      <th></th>\n",
       "      <th>REFACTORING_TYPE</th>\n",
       "      <th>FAULT_FIXING_COMMIT_HASH</th>\n",
       "      <th>FAULT_INDUCING_COMMIT_HASH</th>\n",
       "      <th>PROJECT_ID</th>\n",
       "      <th>COMMIT_MESSAGE</th>\n",
       "      <th>COMMITTER_DATE</th>\n",
       "      <th>BRANCHES</th>\n",
       "    </tr>\n",
       "  </thead>\n",
       "  <tbody>\n",
       "    <tr>\n",
       "      <th>0</th>\n",
       "      <td>Move Class</td>\n",
       "      <td>1d528f6cf7ea74db01a03d724f288dd97b2c3f35</td>\n",
       "      <td>d522432b79044740831a132d8b92e7dab5477444</td>\n",
       "      <td>org.apache:bcel</td>\n",
       "      <td>[BCEL-328] java.util.EmptyStackException at or...</td>\n",
       "      <td>2019-09-25 20:09:42-04:00</td>\n",
       "      <td>{'master'}</td>\n",
       "    </tr>\n",
       "    <tr>\n",
       "      <th>1</th>\n",
       "      <td>Rename Parameter</td>\n",
       "      <td>1d528f6cf7ea74db01a03d724f288dd97b2c3f35</td>\n",
       "      <td>011d22895719c182ad3ddce859756154a2eb7a37</td>\n",
       "      <td>org.apache:bcel</td>\n",
       "      <td>[BCEL-328] java.util.EmptyStackException at or...</td>\n",
       "      <td>2019-09-25 20:09:42-04:00</td>\n",
       "      <td>{'master'}</td>\n",
       "    </tr>\n",
       "    <tr>\n",
       "      <th>2</th>\n",
       "      <td>Change Package</td>\n",
       "      <td>1d528f6cf7ea74db01a03d724f288dd97b2c3f35</td>\n",
       "      <td>f3f9e9b02c101973da0ed1a51e5dd60b83e5bc65</td>\n",
       "      <td>org.apache:bcel</td>\n",
       "      <td>[BCEL-328] java.util.EmptyStackException at or...</td>\n",
       "      <td>2019-09-25 20:09:42-04:00</td>\n",
       "      <td>{'master'}</td>\n",
       "    </tr>\n",
       "    <tr>\n",
       "      <th>3</th>\n",
       "      <td>Move Class</td>\n",
       "      <td>93c12bbb6d22a165a407b6184cdb40545f86c683</td>\n",
       "      <td>d522432b79044740831a132d8b92e7dab5477444</td>\n",
       "      <td>org.apache:bcel</td>\n",
       "      <td>BCEL-287: IINC does not handle -128 properly. ...</td>\n",
       "      <td>2017-08-30 19:28:20+00:00</td>\n",
       "      <td>{'master'}</td>\n",
       "    </tr>\n",
       "    <tr>\n",
       "      <th>4</th>\n",
       "      <td>Extract Class</td>\n",
       "      <td>93c12bbb6d22a165a407b6184cdb40545f86c683</td>\n",
       "      <td>02f53e4fa6ec7fa339c8c9273183669d7f5928c9</td>\n",
       "      <td>org.apache:bcel</td>\n",
       "      <td>BCEL-287: IINC does not handle -128 properly. ...</td>\n",
       "      <td>2017-08-30 19:28:20+00:00</td>\n",
       "      <td>{'master'}</td>\n",
       "    </tr>\n",
       "    <tr>\n",
       "      <th>...</th>\n",
       "      <td>...</td>\n",
       "      <td>...</td>\n",
       "      <td>...</td>\n",
       "      <td>...</td>\n",
       "      <td>...</td>\n",
       "      <td>...</td>\n",
       "      <td>...</td>\n",
       "    </tr>\n",
       "    <tr>\n",
       "      <th>19374</th>\n",
       "      <td>Move Source Folder</td>\n",
       "      <td>2845b16eb24fc66d34f66c776400354225e70bad</td>\n",
       "      <td>249d7cb199b5c08e7a7a51189a733cc8fef12cf9</td>\n",
       "      <td>org.apache:thrift</td>\n",
       "      <td>THRIFT-565. java: Structs containing typedefs ...</td>\n",
       "      <td>2009-11-09 15:55:22+00:00</td>\n",
       "      <td>{'master'}</td>\n",
       "    </tr>\n",
       "    <tr>\n",
       "      <th>19375</th>\n",
       "      <td>Move Source Folder</td>\n",
       "      <td>2fde9eee6f155ff23d938256d3c9db9c93a21b77</td>\n",
       "      <td>249d7cb199b5c08e7a7a51189a733cc8fef12cf9</td>\n",
       "      <td>org.apache:thrift</td>\n",
       "      <td>THRIFT-971 java module can't be compiled witho...</td>\n",
       "      <td>2010-10-27 19:19:04+00:00</td>\n",
       "      <td>{'master'}</td>\n",
       "    </tr>\n",
       "    <tr>\n",
       "      <th>19376</th>\n",
       "      <td>Move Source Folder</td>\n",
       "      <td>787538943be3c40a55b971c47882e8b19d4b5823</td>\n",
       "      <td>249d7cb199b5c08e7a7a51189a733cc8fef12cf9</td>\n",
       "      <td>org.apache:thrift</td>\n",
       "      <td>THRIFT-482. java: build.xml does not specify a...</td>\n",
       "      <td>2009-05-06 17:22:11+00:00</td>\n",
       "      <td>{'master'}</td>\n",
       "    </tr>\n",
       "    <tr>\n",
       "      <th>19377</th>\n",
       "      <td>Move Class</td>\n",
       "      <td>796381d857f3a51fd1b059200425c84326cbcfe3</td>\n",
       "      <td>afa80ea73d4cbf83afee807e5d9f9034fa177ade</td>\n",
       "      <td>org.apache:thrift</td>\n",
       "      <td>THRIFT-290. java: Metadata map doesn't properl...</td>\n",
       "      <td>2009-01-29 22:13:56+00:00</td>\n",
       "      <td>{'master'}</td>\n",
       "    </tr>\n",
       "    <tr>\n",
       "      <th>19378</th>\n",
       "      <td>Move Class</td>\n",
       "      <td>ef73b0e67ad4f5238417a60ec41176c1a6095b8d</td>\n",
       "      <td>afa80ea73d4cbf83afee807e5d9f9034fa177ade</td>\n",
       "      <td>org.apache:thrift</td>\n",
       "      <td>THRIFT-378. java: Java servers do not turn int...</td>\n",
       "      <td>2009-06-17 16:43:25+00:00</td>\n",
       "      <td>{'master'}</td>\n",
       "    </tr>\n",
       "  </tbody>\n",
       "</table>\n",
       "<p>19286 rows × 7 columns</p>\n",
       "</div>"
      ],
      "text/plain": [
       "         REFACTORING_TYPE                  FAULT_FIXING_COMMIT_HASH  \\\n",
       "0              Move Class  1d528f6cf7ea74db01a03d724f288dd97b2c3f35   \n",
       "1        Rename Parameter  1d528f6cf7ea74db01a03d724f288dd97b2c3f35   \n",
       "2          Change Package  1d528f6cf7ea74db01a03d724f288dd97b2c3f35   \n",
       "3              Move Class  93c12bbb6d22a165a407b6184cdb40545f86c683   \n",
       "4           Extract Class  93c12bbb6d22a165a407b6184cdb40545f86c683   \n",
       "...                   ...                                       ...   \n",
       "19374  Move Source Folder  2845b16eb24fc66d34f66c776400354225e70bad   \n",
       "19375  Move Source Folder  2fde9eee6f155ff23d938256d3c9db9c93a21b77   \n",
       "19376  Move Source Folder  787538943be3c40a55b971c47882e8b19d4b5823   \n",
       "19377          Move Class  796381d857f3a51fd1b059200425c84326cbcfe3   \n",
       "19378          Move Class  ef73b0e67ad4f5238417a60ec41176c1a6095b8d   \n",
       "\n",
       "                     FAULT_INDUCING_COMMIT_HASH         PROJECT_ID  \\\n",
       "0      d522432b79044740831a132d8b92e7dab5477444    org.apache:bcel   \n",
       "1      011d22895719c182ad3ddce859756154a2eb7a37    org.apache:bcel   \n",
       "2      f3f9e9b02c101973da0ed1a51e5dd60b83e5bc65    org.apache:bcel   \n",
       "3      d522432b79044740831a132d8b92e7dab5477444    org.apache:bcel   \n",
       "4      02f53e4fa6ec7fa339c8c9273183669d7f5928c9    org.apache:bcel   \n",
       "...                                         ...                ...   \n",
       "19374  249d7cb199b5c08e7a7a51189a733cc8fef12cf9  org.apache:thrift   \n",
       "19375  249d7cb199b5c08e7a7a51189a733cc8fef12cf9  org.apache:thrift   \n",
       "19376  249d7cb199b5c08e7a7a51189a733cc8fef12cf9  org.apache:thrift   \n",
       "19377  afa80ea73d4cbf83afee807e5d9f9034fa177ade  org.apache:thrift   \n",
       "19378  afa80ea73d4cbf83afee807e5d9f9034fa177ade  org.apache:thrift   \n",
       "\n",
       "                                          COMMIT_MESSAGE  \\\n",
       "0      [BCEL-328] java.util.EmptyStackException at or...   \n",
       "1      [BCEL-328] java.util.EmptyStackException at or...   \n",
       "2      [BCEL-328] java.util.EmptyStackException at or...   \n",
       "3      BCEL-287: IINC does not handle -128 properly. ...   \n",
       "4      BCEL-287: IINC does not handle -128 properly. ...   \n",
       "...                                                  ...   \n",
       "19374  THRIFT-565. java: Structs containing typedefs ...   \n",
       "19375  THRIFT-971 java module can't be compiled witho...   \n",
       "19376  THRIFT-482. java: build.xml does not specify a...   \n",
       "19377  THRIFT-290. java: Metadata map doesn't properl...   \n",
       "19378  THRIFT-378. java: Java servers do not turn int...   \n",
       "\n",
       "                  COMMITTER_DATE    BRANCHES  \n",
       "0      2019-09-25 20:09:42-04:00  {'master'}  \n",
       "1      2019-09-25 20:09:42-04:00  {'master'}  \n",
       "2      2019-09-25 20:09:42-04:00  {'master'}  \n",
       "3      2017-08-30 19:28:20+00:00  {'master'}  \n",
       "4      2017-08-30 19:28:20+00:00  {'master'}  \n",
       "...                          ...         ...  \n",
       "19374  2009-11-09 15:55:22+00:00  {'master'}  \n",
       "19375  2010-10-27 19:19:04+00:00  {'master'}  \n",
       "19376  2009-05-06 17:22:11+00:00  {'master'}  \n",
       "19377  2009-01-29 22:13:56+00:00  {'master'}  \n",
       "19378  2009-06-17 16:43:25+00:00  {'master'}  \n",
       "\n",
       "[19286 rows x 7 columns]"
      ]
     },
     "execution_count": 26,
     "metadata": {},
     "output_type": "execute_result"
    }
   ],
   "source": [
    "df = df[df[\"FAULT_INDUCING_COMMIT_HASH\"].isin(szz_fault_inducing_commits[\"FAULT_INDUCING_COMMIT_HASH\"])]\n",
    "df"
   ]
  },
  {
   "cell_type": "code",
   "execution_count": 13,
   "id": "serial-scanning",
   "metadata": {},
   "outputs": [
    {
     "data": {
      "text/html": [
       "<div>\n",
       "<style scoped>\n",
       "    .dataframe tbody tr th:only-of-type {\n",
       "        vertical-align: middle;\n",
       "    }\n",
       "\n",
       "    .dataframe tbody tr th {\n",
       "        vertical-align: top;\n",
       "    }\n",
       "\n",
       "    .dataframe thead th {\n",
       "        text-align: right;\n",
       "    }\n",
       "</style>\n",
       "<table border=\"1\" class=\"dataframe\">\n",
       "  <thead>\n",
       "    <tr style=\"text-align: right;\">\n",
       "      <th></th>\n",
       "      <th>PROJECT_ID</th>\n",
       "      <th>FAULT_FIXING_COMMIT_HASH</th>\n",
       "      <th>FAULT_INDUCING_COMMIT_HASH</th>\n",
       "    </tr>\n",
       "  </thead>\n",
       "  <tbody>\n",
       "    <tr>\n",
       "      <th>0</th>\n",
       "      <td>org.apache:archiva</td>\n",
       "      <td>fa3688a693bc10bf53e72965027a82df0a8ad267</td>\n",
       "      <td>b7c003acb6b2c2a930443c511cb087d2776b4891</td>\n",
       "    </tr>\n",
       "    <tr>\n",
       "      <th>1</th>\n",
       "      <td>org.apache:archiva</td>\n",
       "      <td>d4c85abfac8d0920549f20735caf0e4028149c5c</td>\n",
       "      <td>5f9755b5ae526a83ecdd219401c97498b223b776</td>\n",
       "    </tr>\n",
       "    <tr>\n",
       "      <th>2</th>\n",
       "      <td>org.apache:archiva</td>\n",
       "      <td>d4c85abfac8d0920549f20735caf0e4028149c5c</td>\n",
       "      <td>9e37277c4a5d4c353f71ec5060951c554f20bab5</td>\n",
       "    </tr>\n",
       "    <tr>\n",
       "      <th>3</th>\n",
       "      <td>org.apache:archiva</td>\n",
       "      <td>d4c85abfac8d0920549f20735caf0e4028149c5c</td>\n",
       "      <td>28898793f51c03b1259d3a1b1f1612f450cf634c</td>\n",
       "    </tr>\n",
       "    <tr>\n",
       "      <th>4</th>\n",
       "      <td>org.apache:archiva</td>\n",
       "      <td>d4c85abfac8d0920549f20735caf0e4028149c5c</td>\n",
       "      <td>44dd185dade958e4c24014d84db71f870c714fcb</td>\n",
       "    </tr>\n",
       "    <tr>\n",
       "      <th>...</th>\n",
       "      <td>...</td>\n",
       "      <td>...</td>\n",
       "      <td>...</td>\n",
       "    </tr>\n",
       "    <tr>\n",
       "      <th>52423</th>\n",
       "      <td>org.apache:httpcore</td>\n",
       "      <td>4c9fbd27bac88ee64e3ad3e64b8f3b3e4a5d6621</td>\n",
       "      <td>65e51b1a59fef1598c26a9f2603bbe540c89bcfd</td>\n",
       "    </tr>\n",
       "    <tr>\n",
       "      <th>52424</th>\n",
       "      <td>org.apache:httpcore</td>\n",
       "      <td>94aa6822ea2fafc3324438282a0800f8ef3749d5</td>\n",
       "      <td>0cc32f7232d1c66121554cc65e1cfa54c1549c54</td>\n",
       "    </tr>\n",
       "    <tr>\n",
       "      <th>52425</th>\n",
       "      <td>org.apache:httpcore</td>\n",
       "      <td>ae3953384791eb7dcfd6dd98fd388881a2ee5abf</td>\n",
       "      <td>0cc32f7232d1c66121554cc65e1cfa54c1549c54</td>\n",
       "    </tr>\n",
       "    <tr>\n",
       "      <th>52426</th>\n",
       "      <td>org.apache:httpcore</td>\n",
       "      <td>a03b1ecaf714a199f8123db8e14b70dac376c170</td>\n",
       "      <td>0cc32f7232d1c66121554cc65e1cfa54c1549c54</td>\n",
       "    </tr>\n",
       "    <tr>\n",
       "      <th>52427</th>\n",
       "      <td>org.apache:httpcore</td>\n",
       "      <td>f7e876bbb9ca165918e5826aa8bbba0f8b6d2268</td>\n",
       "      <td>0cc32f7232d1c66121554cc65e1cfa54c1549c54</td>\n",
       "    </tr>\n",
       "  </tbody>\n",
       "</table>\n",
       "<p>52428 rows × 3 columns</p>\n",
       "</div>"
      ],
      "text/plain": [
       "                PROJECT_ID                  FAULT_FIXING_COMMIT_HASH  \\\n",
       "0       org.apache:archiva  fa3688a693bc10bf53e72965027a82df0a8ad267   \n",
       "1       org.apache:archiva  d4c85abfac8d0920549f20735caf0e4028149c5c   \n",
       "2       org.apache:archiva  d4c85abfac8d0920549f20735caf0e4028149c5c   \n",
       "3       org.apache:archiva  d4c85abfac8d0920549f20735caf0e4028149c5c   \n",
       "4       org.apache:archiva  d4c85abfac8d0920549f20735caf0e4028149c5c   \n",
       "...                    ...                                       ...   \n",
       "52423  org.apache:httpcore  4c9fbd27bac88ee64e3ad3e64b8f3b3e4a5d6621   \n",
       "52424  org.apache:httpcore  94aa6822ea2fafc3324438282a0800f8ef3749d5   \n",
       "52425  org.apache:httpcore  ae3953384791eb7dcfd6dd98fd388881a2ee5abf   \n",
       "52426  org.apache:httpcore  a03b1ecaf714a199f8123db8e14b70dac376c170   \n",
       "52427  org.apache:httpcore  f7e876bbb9ca165918e5826aa8bbba0f8b6d2268   \n",
       "\n",
       "                     FAULT_INDUCING_COMMIT_HASH  \n",
       "0      b7c003acb6b2c2a930443c511cb087d2776b4891  \n",
       "1      5f9755b5ae526a83ecdd219401c97498b223b776  \n",
       "2      9e37277c4a5d4c353f71ec5060951c554f20bab5  \n",
       "3      28898793f51c03b1259d3a1b1f1612f450cf634c  \n",
       "4      44dd185dade958e4c24014d84db71f870c714fcb  \n",
       "...                                         ...  \n",
       "52423  65e51b1a59fef1598c26a9f2603bbe540c89bcfd  \n",
       "52424  0cc32f7232d1c66121554cc65e1cfa54c1549c54  \n",
       "52425  0cc32f7232d1c66121554cc65e1cfa54c1549c54  \n",
       "52426  0cc32f7232d1c66121554cc65e1cfa54c1549c54  \n",
       "52427  0cc32f7232d1c66121554cc65e1cfa54c1549c54  \n",
       "\n",
       "[52428 rows x 3 columns]"
      ]
     },
     "execution_count": 13,
     "metadata": {},
     "output_type": "execute_result"
    }
   ],
   "source": [
    "szz_fault_inducing_commits"
   ]
  },
  {
   "cell_type": "code",
   "execution_count": 27,
   "id": "tropical-magic",
   "metadata": {},
   "outputs": [],
   "source": [
    "fault_refactor = len(df[\"FAULT_INDUCING_COMMIT_HASH\"].unique())\n",
    "fault_no_refactor = sum(~pd.Series(szz_fault_inducing_commits[\"FAULT_INDUCING_COMMIT_HASH\"].unique()).isin(df[\"FAULT_INDUCING_COMMIT_HASH\"].unique()))"
   ]
  },
  {
   "cell_type": "code",
   "execution_count": 30,
   "id": "running-typing",
   "metadata": {},
   "outputs": [
    {
     "data": {
      "text/plain": [
       "(15655, 1671)"
      ]
     },
     "execution_count": 30,
     "metadata": {},
     "output_type": "execute_result"
    }
   ],
   "source": [
    "fault_no_refactor, fault_refactor"
   ]
  },
  {
   "cell_type": "code",
   "execution_count": 40,
   "id": "demanding-klein",
   "metadata": {},
   "outputs": [],
   "source": [
    "commit_refactor = len(refactoring_miner[\"COMMIT_HASH\"].unique())\n",
    "commit_no_refactor = sum(~pd.Series(git_commits[\"COMMIT_HASH\"].unique()).isin(refactoring_miner[\"COMMIT_HASH\"].unique()))"
   ]
  },
  {
   "cell_type": "code",
   "execution_count": 44,
   "id": "another-efficiency",
   "metadata": {},
   "outputs": [
    {
     "data": {
      "text/plain": [
       "(7197, 146797)"
      ]
     },
     "execution_count": 44,
     "metadata": {},
     "output_type": "execute_result"
    }
   ],
   "source": [
    "commit_refactor, commit_no_refactor"
   ]
  },
  {
   "cell_type": "code",
   "execution_count": 42,
   "id": "central-recipient",
   "metadata": {},
   "outputs": [
    {
     "data": {
      "text/plain": [
       "0.23218007503126303"
      ]
     },
     "execution_count": 42,
     "metadata": {},
     "output_type": "execute_result"
    }
   ],
   "source": [
    "fault_refactor/commit_refactor"
   ]
  },
  {
   "cell_type": "code",
   "execution_count": 43,
   "id": "brief-expansion",
   "metadata": {},
   "outputs": [
    {
     "data": {
      "text/plain": [
       "0.10664386874391166"
      ]
     },
     "execution_count": 43,
     "metadata": {},
     "output_type": "execute_result"
    }
   ],
   "source": [
    "fault_no_refactor/commit_no_refactor"
   ]
  }
 ],
 "metadata": {
  "kernelspec": {
   "display_name": "Python 3",
   "language": "python",
   "name": "python3"
  },
  "language_info": {
   "codemirror_mode": {
    "name": "ipython",
    "version": 3
   },
   "file_extension": ".py",
   "mimetype": "text/x-python",
   "name": "python",
   "nbconvert_exporter": "python",
   "pygments_lexer": "ipython3",
   "version": "3.8.10"
  }
 },
 "nbformat": 4,
 "nbformat_minor": 5
}
