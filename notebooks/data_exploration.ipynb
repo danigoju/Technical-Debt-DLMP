{
  "nbformat": 4,
  "nbformat_minor": 0,
  "metadata": {
    "colab": {
      "name": "DATA_EXPLORATION.ipynb",
      "provenance": [],
      "collapsed_sections": []
    },
    "kernelspec": {
      "name": "python3",
      "display_name": "Python 3"
    },
    "language_info": {
      "name": "python"
    }
  },
  "cells": [
    {
      "cell_type": "markdown",
      "metadata": {
        "id": "FWKH61JXP23D"
      },
      "source": [
        "## DATA EXPLORATION"
      ]
    },
    {
      "cell_type": "code",
      "metadata": {
        "colab": {
          "base_uri": "https://localhost:8080/"
        },
        "id": "gI7lPltnQSP_",
        "outputId": "09741a7d-ae52-47dc-a8de-9c7f895fad18"
      },
      "source": [
        "import os\n",
        "import numpy as np\n",
        "import pandas as pd\n",
        "from google.colab import drive\n",
        "import matplotlib.pyplot as plt\n",
        "\n",
        "drive.mount('/content/drive')"
      ],
      "execution_count": null,
      "outputs": [
        {
          "output_type": "stream",
          "name": "stdout",
          "text": [
            "Mounted at /content/drive\n"
          ]
        }
      ]
    },
    {
      "cell_type": "markdown",
      "metadata": {
        "id": "APERzyrzRWLP"
      },
      "source": [
        "#### GIT COMMITS file"
      ]
    },
    {
      "cell_type": "code",
      "metadata": {
        "id": "42Edca5tQpnn"
      },
      "source": [
        "commits = pd.read_csv('/content/drive/My Drive/TAED 2 lab1/data v1/GIT_COMMITS.csv') #select the desired path of the file "
      ],
      "execution_count": null,
      "outputs": []
    },
    {
      "cell_type": "code",
      "metadata": {
        "colab": {
          "base_uri": "https://localhost:8080/",
          "height": 298
        },
        "id": "tGwsv7bpRcsc",
        "outputId": "d0864d46-e7e7-4539-8f98-508bbe75a729"
      },
      "source": [
        "commits.head(3)"
      ],
      "execution_count": null,
      "outputs": [
        {
          "output_type": "execute_result",
          "data": {
            "text/html": [
              "<div>\n",
              "<style scoped>\n",
              "    .dataframe tbody tr th:only-of-type {\n",
              "        vertical-align: middle;\n",
              "    }\n",
              "\n",
              "    .dataframe tbody tr th {\n",
              "        vertical-align: top;\n",
              "    }\n",
              "\n",
              "    .dataframe thead th {\n",
              "        text-align: right;\n",
              "    }\n",
              "</style>\n",
              "<table border=\"1\" class=\"dataframe\">\n",
              "  <thead>\n",
              "    <tr style=\"text-align: right;\">\n",
              "      <th></th>\n",
              "      <th>projectID</th>\n",
              "      <th>commitHash</th>\n",
              "      <th>commitMessage</th>\n",
              "      <th>author</th>\n",
              "      <th>authorDate</th>\n",
              "      <th>authorTimezone</th>\n",
              "      <th>committer</th>\n",
              "      <th>committerDate</th>\n",
              "      <th>committerTimezone</th>\n",
              "      <th>branches</th>\n",
              "      <th>inMainBranch</th>\n",
              "      <th>merge</th>\n",
              "      <th>parents</th>\n",
              "    </tr>\n",
              "  </thead>\n",
              "  <tbody>\n",
              "    <tr>\n",
              "      <th>0</th>\n",
              "      <td>accumulo</td>\n",
              "      <td>e0880e263e4bf8662ba3848405200473a25dfc9f</td>\n",
              "      <td>ACCUMULO-1 initial checkin of source code\\n\\ng...</td>\n",
              "      <td>Keith Turner</td>\n",
              "      <td>2011-10-04T00:46:07Z</td>\n",
              "      <td>0</td>\n",
              "      <td>Keith Turner</td>\n",
              "      <td>2011-10-04T00:46:07Z</td>\n",
              "      <td>0</td>\n",
              "      <td>['master']</td>\n",
              "      <td>True</td>\n",
              "      <td>False</td>\n",
              "      <td>[]</td>\n",
              "    </tr>\n",
              "    <tr>\n",
              "      <th>1</th>\n",
              "      <td>accumulo</td>\n",
              "      <td>e8774c5ec3a35e042f320540b5f7e66ebd2d9e87</td>\n",
              "      <td>ACCUMULO-2 moved cloudtrace for TRUNK, fixed p...</td>\n",
              "      <td>Billie Rinaldi</td>\n",
              "      <td>2011-10-04T16:57:13Z</td>\n",
              "      <td>0</td>\n",
              "      <td>Billie Rinaldi</td>\n",
              "      <td>2011-10-04T16:57:13Z</td>\n",
              "      <td>0</td>\n",
              "      <td>['master']</td>\n",
              "      <td>True</td>\n",
              "      <td>False</td>\n",
              "      <td>['e0880e263e4bf8662ba3848405200473a25dfc9f']</td>\n",
              "    </tr>\n",
              "    <tr>\n",
              "      <th>2</th>\n",
              "      <td>accumulo</td>\n",
              "      <td>2032ebbd0ed90734da39ca238bbd10dee24d0030</td>\n",
              "      <td>ACCUMULO-2 fixed thrift build script to point ...</td>\n",
              "      <td>Keith Turner</td>\n",
              "      <td>2011-10-04T18:39:18Z</td>\n",
              "      <td>0</td>\n",
              "      <td>Keith Turner</td>\n",
              "      <td>2011-10-04T18:39:18Z</td>\n",
              "      <td>0</td>\n",
              "      <td>['master']</td>\n",
              "      <td>True</td>\n",
              "      <td>False</td>\n",
              "      <td>['e8774c5ec3a35e042f320540b5f7e66ebd2d9e87']</td>\n",
              "    </tr>\n",
              "  </tbody>\n",
              "</table>\n",
              "</div>"
            ],
            "text/plain": [
              "  projectID  ...                                       parents\n",
              "0  accumulo  ...                                            []\n",
              "1  accumulo  ...  ['e0880e263e4bf8662ba3848405200473a25dfc9f']\n",
              "2  accumulo  ...  ['e8774c5ec3a35e042f320540b5f7e66ebd2d9e87']\n",
              "\n",
              "[3 rows x 13 columns]"
            ]
          },
          "metadata": {},
          "execution_count": 4
        }
      ]
    },
    {
      "cell_type": "code",
      "metadata": {
        "colab": {
          "base_uri": "https://localhost:8080/"
        },
        "id": "yPqvJwn2RqWr",
        "outputId": "cc21c81e-6b8f-4b1f-8c09-b9101c413ff8"
      },
      "source": [
        "commits.shape"
      ],
      "execution_count": null,
      "outputs": [
        {
          "output_type": "execute_result",
          "data": {
            "text/plain": [
              "(140687, 13)"
            ]
          },
          "metadata": {},
          "execution_count": 6
        }
      ]
    },
    {
      "cell_type": "code",
      "metadata": {
        "colab": {
          "base_uri": "https://localhost:8080/"
        },
        "id": "r729UPzfVufT",
        "outputId": "c6064521-1454-44fa-c538-ebcafab62bd4"
      },
      "source": [
        "sum(commits.duplicated())"
      ],
      "execution_count": null,
      "outputs": [
        {
          "output_type": "execute_result",
          "data": {
            "text/plain": [
              "0"
            ]
          },
          "metadata": {},
          "execution_count": 7
        }
      ]
    },
    {
      "cell_type": "code",
      "metadata": {
        "colab": {
          "base_uri": "https://localhost:8080/"
        },
        "id": "xouKWFvMRlik",
        "outputId": "df2f6b1c-33cc-44c1-c569-a1fc050ace31"
      },
      "source": [
        "# projectIDs column\n",
        "print('data type:', commits.projectID.dtype, '\\n')\n",
        "print('number of distinct project IDs:', len(commits.projectID.unique()),'\\n')\n",
        "print('number of null values in the column:', sum(commits.projectID.isnull()),'\\n')\n",
        "print('5 most common project IDs and % of appearance:\\n', round(commits.projectID.value_counts()[:5]/len(commits),4)*100, sep = '')"
      ],
      "execution_count": null,
      "outputs": [
        {
          "output_type": "stream",
          "name": "stdout",
          "text": [
            "data type: object \n",
            "\n",
            "number of distinct project IDs: 33 \n",
            "\n",
            "number of null values in the column: 0 \n",
            "\n",
            "5 most common project IDs and % of appearance:\n",
            "ambari      17.47\n",
            "beam        15.87\n",
            "felix       10.97\n",
            "cocoon       9.35\n",
            "accumulo     7.19\n",
            "Name: projectID, dtype: float64\n"
          ]
        }
      ]
    },
    {
      "cell_type": "code",
      "metadata": {
        "colab": {
          "base_uri": "https://localhost:8080/"
        },
        "id": "JlI-7n_1TC-s",
        "outputId": "de689bb2-3fd5-430f-a865-27b8f55944a8"
      },
      "source": [
        "# commitHash column\n",
        "print('data type:', commits.commitHash.dtype, '\\n')\n",
        "print('number of distinct commitHashs:', len(commits.commitHash.unique()),'\\n')\n",
        "print('number of null values in the column:', sum(commits.commitHash.isnull()),'\\n')\n",
        "print('5 examples of commitHash:\\n', commits.commitHash.value_counts()[:5], sep = '') # each value is unique"
      ],
      "execution_count": null,
      "outputs": [
        {
          "output_type": "stream",
          "name": "stdout",
          "text": [
            "data type: object \n",
            "\n",
            "number of distinct commitHashs: 140687 \n",
            "\n",
            "number of null values in the column: 0 \n",
            "\n",
            "5 examples of commitHash:\n",
            "364a3f089747ff4761cb5b54c963c8a8013574a0    1\n",
            "8fc87cae153493e041856c83d253d9f418dc7b15    1\n",
            "9a9b8ccba51d709d02b0670ac974068d3353baaa    1\n",
            "03fe3cdb91fda84d1456bed1db865822589081c7    1\n",
            "e97dd3f1fe1e76b6ab4e8508c95cc26e0555a4df    1\n",
            "Name: commitHash, dtype: int64\n"
          ]
        }
      ]
    },
    {
      "cell_type": "code",
      "metadata": {
        "colab": {
          "base_uri": "https://localhost:8080/"
        },
        "id": "oJItzPf5SnqZ",
        "outputId": "8b79368d-354a-4c24-ce84-cd78aa12c4e1"
      },
      "source": [
        "# commitMessage column\n",
        "print('data type:', commits.commitMessage.dtype, '\\n')\n",
        "print('number of distinct commitMessages:', len(commits.commitMessage.unique()),'\\n')\n",
        "print('number of null values in the column:', sum(commits.commitMessage.isnull()),'\\n')\n",
        "print('5 most common commitMessages and count of appearance:\\n', commits.commitMessage.value_counts()[:5], sep = '')"
      ],
      "execution_count": null,
      "outputs": [
        {
          "output_type": "stream",
          "name": "stdout",
          "text": [
            "data type: object \n",
            "\n",
            "number of distinct commitMessages: 135528 \n",
            "\n",
            "number of null values in the column: 0 \n",
            "\n",
            "5 most common commitMessages and count of appearance:\n",
            "Merge branch '1.6.0-SNAPSHOT'    429\n",
            "Merge branch '1.7'               256\n",
            "Merge branch '1.8'               246\n",
            "Merge branch '1.7' into 1.8      158\n",
            "Merge branch '1.6.1-SNAPSHOT'    155\n",
            "Name: commitMessage, dtype: int64\n"
          ]
        }
      ]
    },
    {
      "cell_type": "code",
      "metadata": {
        "colab": {
          "base_uri": "https://localhost:8080/",
          "height": 35
        },
        "id": "GLGw7VD-pZj8",
        "outputId": "11a04162-59bf-4d1f-80d1-5cee1e6a042a"
      },
      "source": [
        "commits.commitMessage[13869]"
      ],
      "execution_count": null,
      "outputs": [
        {
          "output_type": "execute_result",
          "data": {
            "application/vnd.google.colaboratory.intrinsic+json": {
              "type": "string"
            },
            "text/plain": [
              "\"AMBARI-3933. ctrl^c during ambari-server setup 'Initializing...' leaves postgres in bad state (Dmytro Shkvyra via dlysnichenko)\""
            ]
          },
          "metadata": {},
          "execution_count": 15
        }
      ]
    },
    {
      "cell_type": "code",
      "metadata": {
        "colab": {
          "base_uri": "https://localhost:8080/"
        },
        "id": "XlhyNA5hSBbf",
        "outputId": "8104f5b4-3554-4e20-dfda-e186141cd3a6"
      },
      "source": [
        "# author column\n",
        "print('data type:', commits.author.dtype, '\\n')\n",
        "print('number of distinct authors:', len(commits.author.unique()),'\\n')\n",
        "print('number of null values in the column:', sum(commits.author.isnull()),'\\n')\n",
        "print('5 most common authors and count of appearance:\\n', commits.author.value_counts()[:5], sep = '')"
      ],
      "execution_count": null,
      "outputs": [
        {
          "output_type": "stream",
          "name": "stdout",
          "text": [
            "data type: object \n",
            "\n",
            "number of distinct authors: 1885 \n",
            "\n",
            "number of null values in the column: 34 \n",
            "\n",
            "5 most common authors and count of appearance:\n",
            "Carsten Ziegeler     5627\n",
            "Sebastian Bazley     4777\n",
            "Oleg Kalnichevski    4224\n",
            "Gary D. Gregory      3665\n",
            "Oliver Heger         2505\n",
            "Name: author, dtype: int64\n"
          ]
        }
      ]
    },
    {
      "cell_type": "code",
      "metadata": {
        "colab": {
          "base_uri": "https://localhost:8080/"
        },
        "id": "v2qyul0kR4q5",
        "outputId": "88de11e1-f572-4569-812f-fd896e762907"
      },
      "source": [
        "# authorDate column\n",
        "print('data type:', commits.authorDate.dtype, '\\n')  # we should convert to datetime\n",
        "commits.authorDate = pd.to_datetime(commits.authorDate, dayfirst=True)\n",
        "print('data type:', commits.authorDate.dtype, '\\n')\n",
        "print('number of distinct authorDate:', len(commits.authorDate.unique()),'\\n')\n",
        "print('number of null values in the column:', sum(commits.authorDate.isnull()),'\\n')\n",
        "print('Examples:\\n', commits.authorDate[:5], sep = '')"
      ],
      "execution_count": null,
      "outputs": [
        {
          "output_type": "stream",
          "name": "stdout",
          "text": [
            "data type: object \n",
            "\n",
            "data type: datetime64[ns, UTC] \n",
            "\n",
            "number of distinct authorDate: 138720 \n",
            "\n",
            "number of null values in the column: 0 \n",
            "\n",
            "Examples:\n",
            "0   2011-10-04 00:46:07+00:00\n",
            "1   2011-10-04 16:57:13+00:00\n",
            "2   2011-10-04 18:39:18+00:00\n",
            "3   2011-10-04 19:31:01+00:00\n",
            "4   2011-10-05 17:19:06+00:00\n",
            "Name: authorDate, dtype: datetime64[ns, UTC]\n"
          ]
        }
      ]
    },
    {
      "cell_type": "code",
      "metadata": {
        "colab": {
          "base_uri": "https://localhost:8080/"
        },
        "id": "vSqj7RiKkL38",
        "outputId": "79f1f7e1-0327-4a2e-cb65-f562fd0abcc7"
      },
      "source": [
        "print(commits[commits.authorTimezone != 0][['authorDate','authorTimezone']][:10])"
      ],
      "execution_count": null,
      "outputs": [
        {
          "output_type": "stream",
          "name": "stdout",
          "text": [
            "                    authorDate  authorTimezone\n",
            "2654 2013-07-15 20:28:21+00:00           14400\n",
            "2655 2013-07-17 11:25:58+00:00           14400\n",
            "2656 2013-07-17 11:26:17+00:00           14400\n",
            "2657 2013-07-17 11:26:50+00:00           14400\n",
            "2658 2013-07-17 11:27:23+00:00           14400\n",
            "2659 2013-07-17 11:27:58+00:00           14400\n",
            "2660 2013-07-17 11:34:02+00:00           14400\n",
            "2661 2013-07-17 11:56:29+00:00           14400\n",
            "2662 2013-07-17 11:57:15+00:00           14400\n",
            "2663 2013-07-17 11:57:38+00:00           14400\n"
          ]
        }
      ]
    },
    {
      "cell_type": "code",
      "metadata": {
        "colab": {
          "base_uri": "https://localhost:8080/"
        },
        "id": "IPpWzpzwVmOj",
        "outputId": "f5f73828-e125-4e61-9b37-c2bc8d29eacd"
      },
      "source": [
        "# authorTimezone column\n",
        "print('data type:', commits.authorTimezone.dtype, '\\n') \n",
        "print('number of distinct authorTimezone:', len(commits.authorTimezone.unique()),'\\n')\n",
        "print('number of null values in the column:', sum(commits.authorTimezone.isnull()),'\\n')\n",
        "print('5 most common authorTimezone and count of appearance:\\n', commits.authorTimezone.value_counts()[:5], '\\n', sep = '')  # units are in seconds!! \n",
        "commits.authorTimezone = commits.authorTimezone/3600  # convert into hours \n",
        "print('5 most common authorTimezone and count of appearance:\\n', pd.DataFrame(commits.authorTimezone.value_counts()).reset_index().rename(columns = {'index':'authorTimezone','authorTimezone':'count'})[:5], sep = '')"
      ],
      "execution_count": null,
      "outputs": [
        {
          "output_type": "stream",
          "name": "stdout",
          "text": [
            "data type: int64 \n",
            "\n",
            "number of distinct authorTimezone: 22 \n",
            "\n",
            "number of null values in the column: 0 \n",
            "\n",
            "5 most common authorTimezone and count of appearance:\n",
            " 0        77995\n",
            " 25200    19264\n",
            "-7200      9379\n",
            " 28800     9224\n",
            " 14400     7088\n",
            "Name: authorTimezone, dtype: int64\n",
            "\n",
            "5 most common authorTimezone and count of appearance:\n",
            "   authorTimezone  count\n",
            "0             0.0  77995\n",
            "1             7.0  19264\n",
            "2            -2.0   9379\n",
            "3             8.0   9224\n",
            "4             4.0   7088\n"
          ]
        }
      ]
    },
    {
      "cell_type": "code",
      "metadata": {
        "colab": {
          "base_uri": "https://localhost:8080/"
        },
        "id": "b6ublcrwVePR",
        "outputId": "2d1c1546-bcff-49ac-f523-e8883be0824d"
      },
      "source": [
        "# committer column\n",
        "print('data type:', commits.committer.dtype, '\\n')\n",
        "print('number of distinct committer:', len(commits.committer.unique()),'\\n')\n",
        "print('number of null values in the column:', sum(commits.committer.isnull()),'\\n')\n",
        "print('5 most common committer and count of appearance:\\n', commits.committer.value_counts()[:5], sep = '')"
      ],
      "execution_count": null,
      "outputs": [
        {
          "output_type": "stream",
          "name": "stdout",
          "text": [
            "data type: object \n",
            "\n",
            "number of distinct committer: 1017 \n",
            "\n",
            "number of null values in the column: 34 \n",
            "\n",
            "5 most common committer and count of appearance:\n",
            "Carsten Ziegeler     5627\n",
            "GitHub               5070\n",
            "Sebastian Bazley     4777\n",
            "Oleg Kalnichevski    4326\n",
            "Gary D. Gregory      3665\n",
            "Name: committer, dtype: int64\n"
          ]
        }
      ]
    },
    {
      "cell_type": "code",
      "metadata": {
        "colab": {
          "base_uri": "https://localhost:8080/"
        },
        "id": "wBs7DF_ZYUoy",
        "outputId": "4a494179-0b50-4f04-8e9b-307436d2d522"
      },
      "source": [
        "# committerDate column\n",
        "print('data type:', commits.committerDate.dtype, '\\n')  # we should convert to datetime\n",
        "commits.committerDate = pd.to_datetime(commits.committerDate, dayfirst=True)\n",
        "print('data type:', commits.committerDate.dtype, '\\n')\n",
        "print('number of distinct committerDate:', len(commits.committerDate.unique()),'\\n')\n",
        "print('number of null values in the column:', sum(commits.committerDate.isnull()),'\\n')\n",
        "print('Examples:\\n', commits.committerDate[:5], sep = '')"
      ],
      "execution_count": null,
      "outputs": [
        {
          "output_type": "stream",
          "name": "stdout",
          "text": [
            "data type: object \n",
            "\n",
            "data type: datetime64[ns, UTC] \n",
            "\n",
            "number of distinct committerDate: 133109 \n",
            "\n",
            "number of null values in the column: 0 \n",
            "\n",
            "Examples:\n",
            "0   2011-10-04 00:46:07+00:00\n",
            "1   2011-10-04 16:57:13+00:00\n",
            "2   2011-10-04 18:39:18+00:00\n",
            "3   2011-10-04 19:31:01+00:00\n",
            "4   2011-10-05 17:19:06+00:00\n",
            "Name: committerDate, dtype: datetime64[ns, UTC]\n"
          ]
        }
      ]
    },
    {
      "cell_type": "code",
      "metadata": {
        "colab": {
          "base_uri": "https://localhost:8080/"
        },
        "id": "hfowT1vvYyNX",
        "outputId": "a7245d73-468b-490d-91f0-96f43892ff85"
      },
      "source": [
        "# committerTimezone column\n",
        "print('data type:', commits.committerTimezone.dtype, '\\n') \n",
        "print('number of distinct committerTimezone:', len(commits.committerTimezone.unique()),'\\n')\n",
        "print('number of null values in the column:', sum(commits.committerTimezone.isnull()),'\\n')\n",
        "print('5 most common committerTimezone and count of appearance:\\n', commits.committerTimezone.value_counts()[:5], '\\n', sep = '')  # units are in seconds!! \n",
        "commits.committerTimezone = commits.committerTimezone/3600  # convert into hours \n",
        "print('5 most common committerTimezone and count of appearance:\\n', pd.DataFrame(commits.committerTimezone.value_counts()).reset_index().rename(columns = {'index':'committerTimezone','committerTimezone':'count'})[:5], sep = '')"
      ],
      "execution_count": null,
      "outputs": [
        {
          "output_type": "stream",
          "name": "stdout",
          "text": [
            "data type: int64 \n",
            "\n",
            "number of distinct committerTimezone: 21 \n",
            "\n",
            "number of null values in the column: 0 \n",
            "\n",
            "5 most common committerTimezone and count of appearance:\n",
            " 0        78167\n",
            " 25200    19486\n",
            " 28800     9664\n",
            "-7200      9433\n",
            " 14400     7044\n",
            "Name: committerTimezone, dtype: int64\n",
            "\n",
            "5 most common committerTimezone and count of appearance:\n",
            "   committerTimezone  count\n",
            "0                0.0  78167\n",
            "1                7.0  19486\n",
            "2                8.0   9664\n",
            "3               -2.0   9433\n",
            "4                4.0   7044\n"
          ]
        }
      ]
    },
    {
      "cell_type": "code",
      "metadata": {
        "colab": {
          "base_uri": "https://localhost:8080/"
        },
        "id": "GrvwpI-eZGBF",
        "outputId": "dc8bb669-5939-4a65-8cf8-a9939d544c08"
      },
      "source": [
        "# branches column\n",
        "print('data type:', commits.branches.dtype, '\\n')\n",
        "print('number of distinct branches:', len(commits.branches.unique()),'\\n')\n",
        "print('number of null values in the column:', sum(commits.branches.isnull()),'\\n')\n",
        "print('Count of appearance of each branch:\\n', commits.branches.value_counts(), sep = '')"
      ],
      "execution_count": null,
      "outputs": [
        {
          "output_type": "stream",
          "name": "stdout",
          "text": [
            "data type: object \n",
            "\n",
            "number of distinct branches: 2 \n",
            "\n",
            "number of null values in the column: 0 \n",
            "\n",
            "Count of appearance of each branch:\n",
            "['master']    81207\n",
            "['trunk']     59480\n",
            "Name: branches, dtype: int64\n"
          ]
        }
      ]
    },
    {
      "cell_type": "code",
      "metadata": {
        "colab": {
          "base_uri": "https://localhost:8080/"
        },
        "id": "5LtvpaseZhhw",
        "outputId": "8ac329fc-2523-47e5-be59-f3307b672b59"
      },
      "source": [
        "# inMainBranch column\n",
        "print('data type:', commits.inMainBranch.dtype, '\\n')\n",
        "print('number of distinct inMainBranch:', len(commits.inMainBranch.unique()),'\\n')\n",
        "print('number of null values in the column:', sum(commits.inMainBranch.isnull()),'\\n')\n",
        "print('Count of appearance of each inMainBranch:\\n', commits.inMainBranch.value_counts(), sep = '')  # why is always True if there also exists Trunk branch ??? "
      ],
      "execution_count": null,
      "outputs": [
        {
          "output_type": "stream",
          "name": "stdout",
          "text": [
            "data type: bool \n",
            "\n",
            "number of distinct inMainBranch: 1 \n",
            "\n",
            "number of null values in the column: 0 \n",
            "\n",
            "Count of appearance of each inMainBranch:\n",
            "True    140687\n",
            "Name: inMainBranch, dtype: int64\n"
          ]
        }
      ]
    },
    {
      "cell_type": "code",
      "metadata": {
        "colab": {
          "base_uri": "https://localhost:8080/"
        },
        "id": "5rQmTa4FZ9Uo",
        "outputId": "3a8ddf92-007e-4e40-ef18-d61fb3ef268d"
      },
      "source": [
        "# merge column\n",
        "print('data type:', commits['merge'].dtype, '\\n')\n",
        "print('number of distinct merge:', len(commits['merge'].unique()),'\\n')\n",
        "print('number of null values in the column:', sum(commits['merge'].isnull()),'\\n')\n",
        "print('Count of appearance of each merge:\\n', commits['merge'].value_counts(), sep = '')  "
      ],
      "execution_count": null,
      "outputs": [
        {
          "output_type": "stream",
          "name": "stdout",
          "text": [
            "data type: bool \n",
            "\n",
            "number of distinct merge: 2 \n",
            "\n",
            "number of null values in the column: 0 \n",
            "\n",
            "Count of appearance of each merge:\n",
            "False    129349\n",
            "True      11338\n",
            "Name: merge, dtype: int64\n"
          ]
        }
      ]
    },
    {
      "cell_type": "code",
      "metadata": {
        "colab": {
          "base_uri": "https://localhost:8080/"
        },
        "id": "a6SsVvN2aN89",
        "outputId": "cf2e44c2-1ea4-440b-f55c-362795b4b81e"
      },
      "source": [
        "# parents column\n",
        "print('data type:', commits['parents'].dtype, '\\n')\n",
        "print('number of distinct parents:', len(commits['parents'].unique()),'\\n')\n",
        "print('number of null values in the column:', sum(commits['parents'].isnull()),'\\n')\n",
        "print('Examples and count of appearance:\\n', commits['parents'].value_counts()[:5], sep = '')  "
      ],
      "execution_count": null,
      "outputs": [
        {
          "output_type": "stream",
          "name": "stdout",
          "text": [
            "data type: object \n",
            "\n",
            "number of distinct parents: 138151 \n",
            "\n",
            "number of null values in the column: 0 \n",
            "\n",
            "Examples and count of appearance:\n",
            "[]                                              41\n",
            "['2c8a92c8569f5b08dff03a78fdf96bf90b878b97']    15\n",
            "['7f2a9efe3f2c8517a2838a29805da4c13ed5fa93']    10\n",
            "['11baa1ea69d37935be147e89c8ff1b3ddac7731c']     9\n",
            "['f31b789d591f7b8f6f96899a79fb6edf45ebcd34']     8\n",
            "Name: parents, dtype: int64\n"
          ]
        }
      ]
    },
    {
      "cell_type": "markdown",
      "metadata": {
        "id": "NEEupZE4b4cu"
      },
      "source": [
        "#### REFACTORING_MINER file"
      ]
    },
    {
      "cell_type": "code",
      "metadata": {
        "id": "cK0SpSC1Qr0h"
      },
      "source": [
        "refactoring = pd.read_csv('/content/drive/My Drive/TAED 2 lab1/data v1/REFACTORING_MINER.csv') #select the desired path of the file "
      ],
      "execution_count": null,
      "outputs": []
    },
    {
      "cell_type": "code",
      "metadata": {
        "colab": {
          "base_uri": "https://localhost:8080/"
        },
        "id": "4aCYcjlFbyv_",
        "outputId": "bfae6673-cc8f-4ce0-d177-af6a37d2d038"
      },
      "source": [
        "refactoring.shape"
      ],
      "execution_count": null,
      "outputs": [
        {
          "output_type": "execute_result",
          "data": {
            "text/plain": [
              "(57530, 4)"
            ]
          },
          "metadata": {},
          "execution_count": 23
        }
      ]
    },
    {
      "cell_type": "code",
      "metadata": {
        "colab": {
          "base_uri": "https://localhost:8080/",
          "height": 142
        },
        "id": "LkIZ23WQak0z",
        "outputId": "3b4a31ac-8826-4604-e24f-a08d759d2627"
      },
      "source": [
        "refactoring.head(3)"
      ],
      "execution_count": null,
      "outputs": [
        {
          "output_type": "execute_result",
          "data": {
            "text/html": [
              "<div>\n",
              "<style scoped>\n",
              "    .dataframe tbody tr th:only-of-type {\n",
              "        vertical-align: middle;\n",
              "    }\n",
              "\n",
              "    .dataframe tbody tr th {\n",
              "        vertical-align: top;\n",
              "    }\n",
              "\n",
              "    .dataframe thead th {\n",
              "        text-align: right;\n",
              "    }\n",
              "</style>\n",
              "<table border=\"1\" class=\"dataframe\">\n",
              "  <thead>\n",
              "    <tr style=\"text-align: right;\">\n",
              "      <th></th>\n",
              "      <th>projectID</th>\n",
              "      <th>commitHash</th>\n",
              "      <th>refactoringType</th>\n",
              "      <th>refactoringDetail</th>\n",
              "    </tr>\n",
              "  </thead>\n",
              "  <tbody>\n",
              "    <tr>\n",
              "      <th>0</th>\n",
              "      <td>accumulo</td>\n",
              "      <td>4093a3015d6b789888077e317e535df4c8102e5d</td>\n",
              "      <td>Extract Method</td>\n",
              "      <td>Extract Method\\tpublic rewriteURI(uri URI, tar...</td>\n",
              "    </tr>\n",
              "    <tr>\n",
              "      <th>1</th>\n",
              "      <td>accumulo</td>\n",
              "      <td>123bd993cff822e02242197a24f47ee36bfa3744</td>\n",
              "      <td>Extract Variable</td>\n",
              "      <td>Extract Variable\\tpath : String in method publ...</td>\n",
              "    </tr>\n",
              "    <tr>\n",
              "      <th>2</th>\n",
              "      <td>accumulo</td>\n",
              "      <td>8c04c6ae5e5ba1432e40684428338ce68431766b</td>\n",
              "      <td>Extract Variable</td>\n",
              "      <td>Extract Variable\\tpath : String in method publ...</td>\n",
              "    </tr>\n",
              "  </tbody>\n",
              "</table>\n",
              "</div>"
            ],
            "text/plain": [
              "  projectID  ...                                  refactoringDetail\n",
              "0  accumulo  ...  Extract Method\\tpublic rewriteURI(uri URI, tar...\n",
              "1  accumulo  ...  Extract Variable\\tpath : String in method publ...\n",
              "2  accumulo  ...  Extract Variable\\tpath : String in method publ...\n",
              "\n",
              "[3 rows x 4 columns]"
            ]
          },
          "metadata": {},
          "execution_count": 24
        }
      ]
    },
    {
      "cell_type": "code",
      "metadata": {
        "colab": {
          "base_uri": "https://localhost:8080/"
        },
        "id": "SsgUFrT6VQix",
        "outputId": "557bd7c5-e716-4ea6-dff3-d716cb222166"
      },
      "source": [
        "sum(refactoring.duplicated())"
      ],
      "execution_count": null,
      "outputs": [
        {
          "output_type": "execute_result",
          "data": {
            "text/plain": [
              "0"
            ]
          },
          "metadata": {},
          "execution_count": 5
        }
      ]
    },
    {
      "cell_type": "code",
      "metadata": {
        "colab": {
          "base_uri": "https://localhost:8080/"
        },
        "id": "o_LZIb_aaoMg",
        "outputId": "f3e6ccdb-aef7-485a-baab-e7d2aecdac89"
      },
      "source": [
        "# projectID column\n",
        "print('data type:', refactoring.projectID.dtype, '\\n')\n",
        "print('number of distinct projectID:', len(refactoring.projectID.unique()),'\\n')\n",
        "print('number of null values in the column:', sum(refactoring.projectID.isnull()),'\\n')\n",
        "print('Examples and count of projectID:\\n', refactoring.projectID.value_counts()[:5], '\\n', sep = '')  \n",
        "print(sum(refactoring.projectID.isin(commits.projectID))/len(refactoring)*100, '% are contained in commits dataframe')"
      ],
      "execution_count": null,
      "outputs": [
        {
          "output_type": "stream",
          "name": "stdout",
          "text": [
            "data type: object \n",
            "\n",
            "number of distinct projectID: 33 \n",
            "\n",
            "number of null values in the column: 0 \n",
            "\n",
            "Examples and count of projectID:\n",
            "beam         10105\n",
            "felix         6610\n",
            "atlas         5029\n",
            "mina-sshd     3993\n",
            "cocoon        3447\n",
            "Name: projectID, dtype: int64\n",
            "\n",
            "100.0 % are contained in commits dataframe\n"
          ]
        }
      ]
    },
    {
      "cell_type": "code",
      "metadata": {
        "colab": {
          "base_uri": "https://localhost:8080/"
        },
        "id": "2bBNp65ga4_6",
        "outputId": "42c187a0-dd70-4bec-d761-118977d488a6"
      },
      "source": [
        "# commitHash column\n",
        "print('data type:', refactoring.commitHash.dtype, '\\n')\n",
        "print('number of distinct commitHash:', len(refactoring.commitHash.unique()),'\\n')\n",
        "print('number of null values in the column:', sum(refactoring.commitHash.isnull()),'\\n')\n",
        "print('Examples and count of commitHash:\\n', refactoring.commitHash.value_counts()[:5], '\\n', sep = '')  \n",
        "print(sum(refactoring.commitHash.isin(commits.commitHash))/len(refactoring)*100, '% are contained in commits dataframe')  # why aren't all of them???"
      ],
      "execution_count": null,
      "outputs": [
        {
          "output_type": "stream",
          "name": "stdout",
          "text": [
            "data type: object \n",
            "\n",
            "number of distinct commitHash: 11699 \n",
            "\n",
            "number of null values in the column: 2 \n",
            "\n",
            "Examples and count of commitHash:\n",
            "b972445412d4c7c563e57a2260e99b9b5e3c7a32    800\n",
            "dc86ba043d4d466fb7f39e9d1a71d9f9aca94ff4    534\n",
            "0cc32f7232d1c66121554cc65e1cfa54c1549c54    502\n",
            "06ddaadbcba4c66b8019815de6ca27d50a9df77d    442\n",
            "d522432b79044740831a132d8b92e7dab5477444    417\n",
            "Name: commitHash, dtype: int64\n",
            "\n",
            "88.34868764123065 % are contained in commits dataframe\n"
          ]
        }
      ]
    },
    {
      "cell_type": "code",
      "metadata": {
        "colab": {
          "base_uri": "https://localhost:8080/"
        },
        "id": "SFw7xGcNcAKu",
        "outputId": "dab2b4c1-57f9-4f29-cd36-ce578629119d"
      },
      "source": [
        "# refactoringType column\n",
        "print('data type:', refactoring.refactoringType.dtype, '\\n')\n",
        "print('number of distinct refactoringType:', len(refactoring.refactoringType.unique()),'\\n')\n",
        "print('number of null values in the column:', sum(refactoring.refactoringType.isnull()),'\\n')\n",
        "print('Examples and count of refactoringType:\\n', refactoring.refactoringType.value_counts()[:5], '\\n', sep = '')  "
      ],
      "execution_count": null,
      "outputs": [
        {
          "output_type": "stream",
          "name": "stdout",
          "text": [
            "data type: object \n",
            "\n",
            "number of distinct refactoringType: 30 \n",
            "\n",
            "number of null values in the column: 2 \n",
            "\n",
            "Examples and count of refactoringType:\n",
            "Move Class        11582\n",
            "Rename Method      8251\n",
            "Extract Method     6712\n",
            "Move Method        4772\n",
            "Move Attribute     4728\n",
            "Name: refactoringType, dtype: int64\n",
            "\n"
          ]
        }
      ]
    },
    {
      "cell_type": "code",
      "metadata": {
        "colab": {
          "base_uri": "https://localhost:8080/"
        },
        "id": "sw6PzS73cRvN",
        "outputId": "898c366e-d2f0-45ba-a231-29f47bb1642d"
      },
      "source": [
        "# refactoringDetail column\n",
        "print('data type:', refactoring.refactoringDetail.dtype, '\\n')\n",
        "print('number of distinct refactoringDetail:', len(refactoring.refactoringDetail.unique()),'\\n')\n",
        "print('number of null values in the column:', sum(refactoring.refactoringDetail.isnull()),'\\n')\n",
        "print('Examples of refactoringDetail:\\n', refactoring.refactoringDetail[:5], '\\n', sep = '')  "
      ],
      "execution_count": null,
      "outputs": [
        {
          "output_type": "stream",
          "name": "stdout",
          "text": [
            "data type: object \n",
            "\n",
            "number of distinct refactoringDetail: 51771 \n",
            "\n",
            "number of null values in the column: 2 \n",
            "\n",
            "Examples of refactoringDetail:\n",
            "0    Extract Method\\tpublic rewriteURI(uri URI, tar...\n",
            "1    Extract Variable\\tpath : String in method publ...\n",
            "2    Extract Variable\\tpath : String in method publ...\n",
            "3    Rename Variable\\theader2 : Header to header : ...\n",
            "4    Rename Variable\\theader1 : Header to header : ...\n",
            "Name: refactoringDetail, dtype: object\n",
            "\n"
          ]
        }
      ]
    },
    {
      "cell_type": "markdown",
      "metadata": {
        "id": "V28Sb4naccnO"
      },
      "source": [
        "#### SZZ_FAULT_INDUCING_COMMITS file"
      ]
    },
    {
      "cell_type": "code",
      "metadata": {
        "id": "hJVAkKrjRMLO"
      },
      "source": [
        "faults = pd.read_csv('/content/drive/My Drive/TAED 2 lab1/data v1/SZZ_FAULT_INDUCING_COMMITS.csv') #select the desired path of the file "
      ],
      "execution_count": null,
      "outputs": []
    },
    {
      "cell_type": "code",
      "metadata": {
        "colab": {
          "base_uri": "https://localhost:8080/"
        },
        "id": "2ShxiMDBeAmL",
        "outputId": "ac6af79a-27d9-4351-aa5b-6eb794db764b"
      },
      "source": [
        "faults.shape"
      ],
      "execution_count": null,
      "outputs": [
        {
          "output_type": "execute_result",
          "data": {
            "text/plain": [
              "(27340, 7)"
            ]
          },
          "metadata": {},
          "execution_count": 30
        }
      ]
    },
    {
      "cell_type": "code",
      "metadata": {
        "colab": {
          "base_uri": "https://localhost:8080/",
          "height": 213
        },
        "id": "r1VsZX3leC0r",
        "outputId": "75902a0c-96c9-4050-f67f-641c45e89c74"
      },
      "source": [
        "faults.head(3)"
      ],
      "execution_count": null,
      "outputs": [
        {
          "output_type": "execute_result",
          "data": {
            "text/html": [
              "<div>\n",
              "<style scoped>\n",
              "    .dataframe tbody tr th:only-of-type {\n",
              "        vertical-align: middle;\n",
              "    }\n",
              "\n",
              "    .dataframe tbody tr th {\n",
              "        vertical-align: top;\n",
              "    }\n",
              "\n",
              "    .dataframe thead th {\n",
              "        text-align: right;\n",
              "    }\n",
              "</style>\n",
              "<table border=\"1\" class=\"dataframe\">\n",
              "  <thead>\n",
              "    <tr style=\"text-align: right;\">\n",
              "      <th></th>\n",
              "      <th>projectID</th>\n",
              "      <th>faultFixingCommitHash</th>\n",
              "      <th>faultFixingTimestamp</th>\n",
              "      <th>faultFixingfileChanged</th>\n",
              "      <th>faultInducingCommitHash</th>\n",
              "      <th>faultInducingTimestamp</th>\n",
              "      <th>key</th>\n",
              "    </tr>\n",
              "  </thead>\n",
              "  <tbody>\n",
              "    <tr>\n",
              "      <th>0</th>\n",
              "      <td>commons-daemon</td>\n",
              "      <td>871c58c9cbfff95a4e3149e9df527401d17381fd</td>\n",
              "      <td>2017-07-09T22:42:35.000+0000</td>\n",
              "      <td>src/main/java/org/apache/commons/daemon/Daemon...</td>\n",
              "      <td>49cbb142a2b5d7d89aab077dc63f7646828c9408</td>\n",
              "      <td>2003-09-04T23:28:19.000+0000</td>\n",
              "      <td>DAEMON-370</td>\n",
              "    </tr>\n",
              "    <tr>\n",
              "      <th>1</th>\n",
              "      <td>commons-daemon</td>\n",
              "      <td>871c58c9cbfff95a4e3149e9df527401d17381fd</td>\n",
              "      <td>2017-07-09T22:42:35.000+0000</td>\n",
              "      <td>src/main/java/org/apache/commons/daemon/Daemon...</td>\n",
              "      <td>43d485a0e99c613daffba7d5b410e8e4a302e4f7</td>\n",
              "      <td>2003-09-26T09:26:04.000+0000</td>\n",
              "      <td>DAEMON-370</td>\n",
              "    </tr>\n",
              "    <tr>\n",
              "      <th>2</th>\n",
              "      <td>commons-daemon</td>\n",
              "      <td>871c58c9cbfff95a4e3149e9df527401d17381fd</td>\n",
              "      <td>2017-07-09T22:42:35.000+0000</td>\n",
              "      <td>src/main/java/org/apache/commons/daemon/Daemon...</td>\n",
              "      <td>4f232e47002359f1a8156b5f03b227c7bae9874a</td>\n",
              "      <td>2010-03-19T00:37:22.000+0000</td>\n",
              "      <td>DAEMON-370</td>\n",
              "    </tr>\n",
              "  </tbody>\n",
              "</table>\n",
              "</div>"
            ],
            "text/plain": [
              "        projectID  ...         key\n",
              "0  commons-daemon  ...  DAEMON-370\n",
              "1  commons-daemon  ...  DAEMON-370\n",
              "2  commons-daemon  ...  DAEMON-370\n",
              "\n",
              "[3 rows x 7 columns]"
            ]
          },
          "metadata": {},
          "execution_count": 31
        }
      ]
    },
    {
      "cell_type": "code",
      "metadata": {
        "colab": {
          "base_uri": "https://localhost:8080/"
        },
        "id": "hWbc-WS807BF",
        "outputId": "c497c0b1-74a6-4971-cf0e-324c512c55d0"
      },
      "source": [
        "# projectID column\n",
        "print('data type:', faults.projectID.dtype, '\\n')\n",
        "print('number of distinct projectID:', len(faults.projectID.unique()),'\\n')\n",
        "print('number of null values in the column:', sum(faults.projectID.isnull()),'\\n')\n",
        "print('Examples and count of projectID:\\n', faults.projectID.value_counts()[:5], '\\n', sep = '')  \n",
        "print(sum(faults.projectID.isin(commits.projectID))/len(faults)*100, '% are contained in commits dataframe')"
      ],
      "execution_count": null,
      "outputs": [
        {
          "output_type": "stream",
          "name": "stdout",
          "text": [
            "data type: object \n",
            "\n",
            "number of distinct projectID: 33 \n",
            "\n",
            "number of null values in the column: 0 \n",
            "\n",
            "Examples and count of projectID:\n",
            "accumulo     9606\n",
            "ambari       7110\n",
            "felix        5424\n",
            "mina-sshd    1588\n",
            "atlas        1093\n",
            "Name: projectID, dtype: int64\n",
            "\n",
            "100.0 % are contained in commits dataframe\n"
          ]
        }
      ]
    },
    {
      "cell_type": "code",
      "metadata": {
        "colab": {
          "base_uri": "https://localhost:8080/"
        },
        "id": "B3zQtgub1JkG",
        "outputId": "2b533937-a9a9-4039-f43e-cbdbe781734d"
      },
      "source": [
        "# faultFixingCommitHash column\n",
        "print('data type:', faults.faultFixingCommitHash.dtype, '\\n')\n",
        "print('number of distinct commitHash:', len(faults.faultFixingCommitHash.unique()),'\\n')\n",
        "print('number of null values in the column:', sum(faults.faultFixingCommitHash.isnull()),'\\n')\n",
        "print('Examples and count of commitHash:\\n', faults.faultFixingCommitHash.value_counts()[:5], '\\n', sep = '')  \n",
        "print(sum(faults.faultFixingCommitHash.isin(commits.commitHash))/len(faults)*100, '% are contained in commits dataframe')"
      ],
      "execution_count": null,
      "outputs": [
        {
          "output_type": "stream",
          "name": "stdout",
          "text": [
            "data type: object \n",
            "\n",
            "number of distinct commitHash: 8538 \n",
            "\n",
            "number of null values in the column: 0 \n",
            "\n",
            "Examples and count of commitHash:\n",
            "dd0c114d7c1d8c735b540b3e44b487a3ecb5d571    1096\n",
            "c31bf3aa2092782c65bf23839aac442f44127b39     911\n",
            "a271441e75a7d46cfb630a078e5b816a73addfdb     894\n",
            "95f428584449f9f49726d7328679a81b603dbcc0     603\n",
            "11c17d6a79f0c8f8101b0004a090378cc24316c1     585\n",
            "Name: faultFixingCommitHash, dtype: int64\n",
            "\n",
            "100.0 % are contained in commits dataframe\n"
          ]
        }
      ]
    },
    {
      "cell_type": "code",
      "metadata": {
        "colab": {
          "base_uri": "https://localhost:8080/"
        },
        "id": "4zeh09261bJe",
        "outputId": "bb19135b-ef32-4e05-cefb-c9c913a72ffb"
      },
      "source": [
        "# key column\n",
        "print('data type:', faults.key.dtype, '\\n')\n",
        "print('number of distinct projectID:', len(faults.key.unique()),'\\n')\n",
        "print('number of null values in the column:', sum(faults.key.isnull()),'\\n')\n",
        "print('Examples and count of keys:\\n', faults.key.value_counts()[:5], '\\n', sep = '')  "
      ],
      "execution_count": null,
      "outputs": [
        {
          "output_type": "stream",
          "name": "stdout",
          "text": [
            "data type: object \n",
            "\n",
            "number of distinct projectID: 6928 \n",
            "\n",
            "number of null values in the column: 0 \n",
            "\n",
            "Examples and count of keys:\n",
            "ACCUMULO-41      2191\n",
            "ACCUMULO-1158    1096\n",
            "ACCUMULO-4514     603\n",
            "SSHD-553          585\n",
            "ACCUMULO-3451     576\n",
            "Name: key, dtype: int64\n",
            "\n"
          ]
        }
      ]
    },
    {
      "cell_type": "markdown",
      "metadata": {
        "id": "3yw5v-Qa1nTD"
      },
      "source": [
        "#### GIT_COMMITS_CHANGES file"
      ]
    },
    {
      "cell_type": "code",
      "metadata": {
        "id": "041FTZiR1l8k"
      },
      "source": [
        "commit_changes = pd.read_csv('/content/drive/My Drive/TAED 2 lab1/data v1/GIT_COMMITS_CHANGES.csv') #select the desired path of the file "
      ],
      "execution_count": null,
      "outputs": []
    },
    {
      "cell_type": "code",
      "metadata": {
        "colab": {
          "base_uri": "https://localhost:8080/",
          "height": 309
        },
        "id": "aAuDO4B1DACM",
        "outputId": "62650939-0a49-4eb8-e0fa-ea239da8e01e"
      },
      "source": [
        "commit_changes.head()"
      ],
      "execution_count": null,
      "outputs": [
        {
          "output_type": "execute_result",
          "data": {
            "text/html": [
              "<div>\n",
              "<style scoped>\n",
              "    .dataframe tbody tr th:only-of-type {\n",
              "        vertical-align: middle;\n",
              "    }\n",
              "\n",
              "    .dataframe tbody tr th {\n",
              "        vertical-align: top;\n",
              "    }\n",
              "\n",
              "    .dataframe thead th {\n",
              "        text-align: right;\n",
              "    }\n",
              "</style>\n",
              "<table border=\"1\" class=\"dataframe\">\n",
              "  <thead>\n",
              "    <tr style=\"text-align: right;\">\n",
              "      <th></th>\n",
              "      <th>projectID</th>\n",
              "      <th>commitHash</th>\n",
              "      <th>oldPath</th>\n",
              "      <th>newPath</th>\n",
              "      <th>changeType</th>\n",
              "      <th>diff</th>\n",
              "      <th>linesAdded</th>\n",
              "      <th>linesRemoved</th>\n",
              "      <th>nloc</th>\n",
              "      <th>complexity</th>\n",
              "      <th>tokenCount</th>\n",
              "      <th>methods</th>\n",
              "    </tr>\n",
              "  </thead>\n",
              "  <tbody>\n",
              "    <tr>\n",
              "      <th>0</th>\n",
              "      <td>accumulo</td>\n",
              "      <td>e0880e263e4bf8662ba3848405200473a25dfc9f</td>\n",
              "      <td>NaN</td>\n",
              "      <td>Accumulo.README</td>\n",
              "      <td>ModificationType.ADD</td>\n",
              "      <td>@@ -0,0 +1,196 @@\\n+**************************...</td>\n",
              "      <td>196</td>\n",
              "      <td>0</td>\n",
              "      <td>145.0</td>\n",
              "      <td>0.0</td>\n",
              "      <td>1861.0</td>\n",
              "      <td>[]</td>\n",
              "    </tr>\n",
              "    <tr>\n",
              "      <th>1</th>\n",
              "      <td>accumulo</td>\n",
              "      <td>e0880e263e4bf8662ba3848405200473a25dfc9f</td>\n",
              "      <td>NaN</td>\n",
              "      <td>bin/LogForwarder.sh</td>\n",
              "      <td>ModificationType.ADD</td>\n",
              "      <td>@@ -0,0 +1,22 @@\\n+#! /usr/bin/env bash\\n+#\\n+...</td>\n",
              "      <td>22</td>\n",
              "      <td>0</td>\n",
              "      <td>9.0</td>\n",
              "      <td>0.0</td>\n",
              "      <td>36.0</td>\n",
              "      <td>[]</td>\n",
              "    </tr>\n",
              "    <tr>\n",
              "      <th>2</th>\n",
              "      <td>accumulo</td>\n",
              "      <td>e0880e263e4bf8662ba3848405200473a25dfc9f</td>\n",
              "      <td>NaN</td>\n",
              "      <td>bin/accumulo</td>\n",
              "      <td>ModificationType.ADD</td>\n",
              "      <td>@@ -0,0 +1,87 @@\\n+#! /usr/bin/env bash\\n+\\n+b...</td>\n",
              "      <td>87</td>\n",
              "      <td>0</td>\n",
              "      <td>69.0</td>\n",
              "      <td>1.0</td>\n",
              "      <td>562.0</td>\n",
              "      <td>['locationByProgram']</td>\n",
              "    </tr>\n",
              "    <tr>\n",
              "      <th>3</th>\n",
              "      <td>accumulo</td>\n",
              "      <td>e0880e263e4bf8662ba3848405200473a25dfc9f</td>\n",
              "      <td>NaN</td>\n",
              "      <td>bin/check-slaves</td>\n",
              "      <td>ModificationType.ADD</td>\n",
              "      <td>@@ -0,0 +1,167 @@\\n+#! /usr/bin/env python\\n+\\...</td>\n",
              "      <td>167</td>\n",
              "      <td>0</td>\n",
              "      <td>154.0</td>\n",
              "      <td>0.0</td>\n",
              "      <td>1192.0</td>\n",
              "      <td>[]</td>\n",
              "    </tr>\n",
              "    <tr>\n",
              "      <th>4</th>\n",
              "      <td>accumulo</td>\n",
              "      <td>e0880e263e4bf8662ba3848405200473a25dfc9f</td>\n",
              "      <td>NaN</td>\n",
              "      <td>bin/config.sh</td>\n",
              "      <td>ModificationType.ADD</td>\n",
              "      <td>@@ -0,0 +1,96 @@\\n+#! /usr/bin/env bash\\n+#cop...</td>\n",
              "      <td>96</td>\n",
              "      <td>0</td>\n",
              "      <td>86.0</td>\n",
              "      <td>0.0</td>\n",
              "      <td>432.0</td>\n",
              "      <td>[]</td>\n",
              "    </tr>\n",
              "  </tbody>\n",
              "</table>\n",
              "</div>"
            ],
            "text/plain": [
              "  projectID  ...                methods\n",
              "0  accumulo  ...                     []\n",
              "1  accumulo  ...                     []\n",
              "2  accumulo  ...  ['locationByProgram']\n",
              "3  accumulo  ...                     []\n",
              "4  accumulo  ...                     []\n",
              "\n",
              "[5 rows x 12 columns]"
            ]
          },
          "metadata": {},
          "execution_count": 80
        }
      ]
    },
    {
      "cell_type": "code",
      "metadata": {
        "colab": {
          "base_uri": "https://localhost:8080/",
          "height": 137
        },
        "id": "DeHBMF8Awmxr",
        "outputId": "0d584418-457d-4a07-f718-ac86a31ffac5"
      },
      "source": [
        "commit_changes['diff'][0]"
      ],
      "execution_count": null,
      "outputs": [
        {
          "output_type": "execute_result",
          "data": {
            "application/vnd.google.colaboratory.intrinsic+json": {
              "type": "string"
            },
            "text/plain": [
              "'@@ -0,0 +1,196 @@\\n+******************************************************************************\\n+1. Building\\n+\\n+In the normal tarball or RPM release of accumulo, everything is built and\\n+ready to go: there is no build step.\\n+\\n+However, if you only have source code, or you wish to make changes, you need to\\n+have maven configured to get Accumulo pre-requisites from repositories.  See\\n+the pom.xml file for the necessary components.\\n+\\n+Run mvn assembly:assembly.\\n+\\n+******************************************************************************\\n+2. Deployment\\n+\\n+Copy the accumulo tar file produced by mvn assembly:assembly from the target/\\n+directory to the desired destination, then untar it (e.g. \\n+tar xvzf accumulo-1.4.0-incubating-SNAPSHOT-dist.tar.gz).\\n+\\n+If you are using the RPM, install the RPM on every machine that will run\\n+accumulo.\\n+\\n+******************************************************************************\\n+3. Upgrading from 1.3 to 1.4\\n+\\n+\\n+\\n+******************************************************************************\\n+4. Configuring\\n+\\n+Accumulo has two prerequisites, hadoop and zookeeper. Zookeeper must be at\\n+least version 3.3.0. Both of these must be installed and configured. Zookeeper \\n+normally only allows for 10 connections from one computer.  On a single-host \\n+install, this number is a little two low.  Add the following to the \\n+$ZOOKEEPER_HOME/conf/zoo.cfg file:\\n+\\n+   maxClientCnxns=100\\n+\\n+Ensure you (or the some special hadoop user account) have accounts on all of\\n+the machines in the cluster and that hadoop and accumulo install files can be\\n+found in the same location on every machine in the cluster.  You will need to\\n+have password-less ssh set up as described in the hadoop documentation. \\n+\\n+You will need to have hadoop installed and configured on your system.\\n+Accumulo 1.4.0-incubating-SNAPSHOT has been tested with hadoop version 0.20.2.\\n+\\n+Create a \"slaves\" file in $ACCUMULO_HOME/conf/.  This is a list of machines\\n+where tablet servers and loggers will run.\\n+\\n+Create a \"masters\" file in $ACCUMULO_HOME/conf/.  This is a list of\\n+machines where the master server will run. \\n+\\n+Create conf/accumulo-env.sh following the template of\\n+conf/accumulo-env.sh.example.  Set JAVA_HOME, HADOOP_HOME, and ZOOKEEPER_HOME.\\n+These directories must be at the same location on every node in the cluster.\\n+Note that zookeeper must be installed on every machine, but it should not be \\n+run on every machine.\\n+\\n+* Note that you will be specifying the Java heap space in accumulo-env.sh.  \\n+You should make sure that the total heap space used for the accumulo tserver,\\n+logger and the hadoop datanode and tasktracker is less than the available\\n+memory on each slave node in the cluster.  On large clusters, it is recommended\\n+that the accumulo master, hadoop namenode, secondary namenode, and hadoop\\n+jobtracker all be run on separate machines to allow them to use more heap\\n+space.  If you are running these on the same machine on a small cluster, make\\n+sure their heap space settings fit within the available memory.  The zookeeper\\n+instances are also time sensitive and should be on machines that will not be\\n+heavily loaded, or over-subscribed for memory.\\n+\\n+Create conf/accumulo-site.xml.  You must set the zookeeper servers in this\\n+file (instance.zookeeper.host).  Look at docs/config.html to see what\\n+additional variables you can modify and what the defaults are.\\n+\\n+* Some recommended modifications for the accumulo site are:\\n+\\n+logger.dir.walog\\n+\\t- a local directory that will be used to log updates which will be used in the event of\\n+\\t  tablet server failure\\n+\\n+Synchronize your accumulo conf directory across the cluster.  As a precaution\\n+against mis-configured systems, servers using different configuration files\\n+will not communicate with the rest of the cluster.\\n+\\n+******************************************************************************\\n+5. Running Accumulo\\n+\\n+Make sure hadoop is configured on all of the machines in the cluster, including\\n+access to a shared hdfs instance.  Make sure hdfs is running.\\n+\\n+Make sure zookeeper is configured and running on at least one machine in the\\n+cluster.\\n+\\n+Run \"bin/accumulo init\" to create the hdfs directory structure\\n+(hdfs:///accumulo/*) and initial zookeeper settings. This will also allow you\\n+to also configure the initial root password. Only do this once. \\n+\\n+Start accumulo using the bin/start-all.sh script.\\n+\\n+Use the \"bin/accumulo shell -u <username>\" command to run a accumulo shell\\n+interpreter.  Within this interpreter, run \"createtable <tablename>\" to create\\n+a table, and run \"table <tablename>\" followed by \"scan\" to scan a table.\\n+\\n+In the example below a table is created, data is inserted, and the table is\\n+scanned.\\n+\\n+    $ ./bin/accumulo shell -u root\\n+    Enter current password for \\'root\\'@\\'acu14\\': ******\\n+\\n+    Shell - Accumulo Interactive Shell\\n+    - \\n+    - version: 1.4.0-incubating-SNAPSHOT\\n+    - instance name: acu14\\n+    - instance id: f5947fe6-081e-41a8-9877-43730c4dfc6f\\n+    - \\n+    - type \\'help\\' for a list of available commands\\n+    - \\n+    root@ac> createtable foo\\n+    root@ac foo> insert row1 colf1 colq1 val1\\n+    root@ac foo> insert row1 colf1 colq2 val2\\n+    root@ac foo> scan\\n+    row1 colf1:colq1 []    val1\\n+    row1 colf1:colq2 []    val2\\n+\\n+The example below start the shell, switches to table foo, and scans for a\\n+certain column.\\n+\\n+    $ ./bin/accumulo shell -u root\\n+    Enter current password for \\'root\\'@\\'acu14\\': ******\\n+\\n+    Shell - Accumulo Interactive Shell\\n+    - \\n+    - version: 1.4.0-incubating-SNAPSHOT\\n+    - instance name: acu14\\n+    - instance id: f5947fe6-081e-41a8-9877-43730c4dfc6f\\n+    - \\n+    - type \\'help\\' for a list of available commands\\n+    - \\n+    root@ac> table foo\\n+    root@ac foo> scan -c colf1:colq2\\n+    row1 colf1:colq2 []    val2\\n+\\n+\\n+\\n+\\n+******************************************************************************\\n+6. Monitoring Accumulo\\n+\\n+You can point your browser to the master host, on port 50095 to see the status\\n+of accumulo across the cluster.  You can even do this with the text-based\\n+browser \"elinks\":\\n+\\n+ $ links http://localhost:50095\\n+\\n+From this GUI, you can ensure that tablets are assigned, tables are online,\\n+tablet servers are up. You can monitor query and ingest rates across the\\n+cluster.\\n+\\n+******************************************************************************\\n+7. Stopping Accumulo\\n+\\n+Do not kill the tabletservers or run bin/tdown.sh unless absolutely necessary.\\n+Recovery from a catastrophic loss of servers can take a long time. To shutdown\\n+cleanly, run \"bin/stop-all.sh\" and the master will orchestrate the shutdown of\\n+all the tablet servers.  Shutdown waits for all writes to finish, so it may\\n+take some time for particular configurations.  \\n+\\n+******************************************************************************\\n+8. Logging\\n+\\n+DEBUG and above are logged to the logs/ dir.  To modify this behavior change\\n+the scripts in conf/.  To change the logging dir, set ACCUMULO_LOG_DIR in\\n+conf/accumulo-env.sh.  Stdout and stderr of each accumulo process is\\n+redirected to the log dir.\\n+\\n+******************************************************************************\\n+9. API\\n+\\n+The public accumulo API is composed of everything in the org.apache.accumulo.core.client\\n+package (excluding the org.apache.accumulo.core.client.impl package) and the following\\n+classes from org.apache.accumulo.core.data : Key, Mutation, Value, and Range.  To get\\n+started using accumulo review the example and the javadoc for the packages and\\n+classes mentioned above. \\n+\\n+******************************************************************************\\n+10. Performance Tuning\\n+\\n+Accumulo has exposed several configuration properties that can be changed. \\n+These properties and configuration management are described in detail in \\n+docs/config.html.  While the default value is usually optimal, there are cases \\n+where a change can increase query and ingest performance.\\n+\\n+Before changing a property from its default in a production system, you should \\n+develop a good understanding of the property and consider creating a test to \\n+prove the increased performance.\\n+\\n+******************************************************************************\\n'"
            ]
          },
          "metadata": {},
          "execution_count": 23
        }
      ]
    },
    {
      "cell_type": "code",
      "metadata": {
        "colab": {
          "base_uri": "https://localhost:8080/",
          "height": 137
        },
        "id": "MWMVNkieyq_g",
        "outputId": "d26d2757-3376-4835-94f1-b46795d00a82"
      },
      "source": [
        "commit_changes['diff'][590]"
      ],
      "execution_count": null,
      "outputs": [
        {
          "output_type": "execute_result",
          "data": {
            "application/vnd.google.colaboratory.intrinsic+json": {
              "type": "string"
            },
            "text/plain": [
              "'@@ -0,0 +1,80 @@\\n+package org.apache.accumulo.core.util.shell.commands;\\n+\\n+import java.io.IOException;\\n+import java.nio.ByteBuffer;\\n+\\n+import org.apache.accumulo.core.client.AccumuloException;\\n+import org.apache.accumulo.core.client.AccumuloSecurityException;\\n+import org.apache.accumulo.core.security.thrift.AuthInfo;\\n+import org.apache.accumulo.core.security.thrift.SecurityErrorCode;\\n+import org.apache.accumulo.core.util.shell.Shell;\\n+import org.apache.accumulo.core.util.shell.Shell.Command;\\n+import org.apache.commons.cli.CommandLine;\\n+import org.apache.commons.cli.Option;\\n+import org.apache.commons.cli.Options;\\n+\\n+\\n+public class PasswdCommand extends Command {\\n+\\tprivate Option userOpt;\\n+\\n+\\t@Override\\n+\\tpublic int execute(String fullCommand, CommandLine cl, Shell shellState) throws AccumuloException, AccumuloSecurityException, IOException {\\n+\\t\\tString currentUser = shellState.getConnector().whoami();\\n+\\t\\tString user = cl.getOptionValue(userOpt.getOpt(), currentUser);\\n+\\n+\\t\\tString password = null;\\n+\\t\\tString passwordConfirm = null;\\n+\\t\\tString oldPassword = null;\\n+\\n+\\t\\toldPassword = shellState.getReader().readLine(\"Enter current password for \\'\" + currentUser + \"\\': \", \\'*\\');\\n+\\t\\tif (oldPassword == null) {\\n+\\t\\t\\tshellState.getReader().printNewline();\\n+\\t\\t\\treturn 0;\\n+\\t\\t} // user canceled\\n+\\n+\\t\\tif (!shellState.getConnector().securityOperations().authenticateUser(currentUser, oldPassword.getBytes()))\\n+\\t\\t\\tthrow new AccumuloSecurityException(user, SecurityErrorCode.BAD_CREDENTIALS);\\n+\\n+\\t\\tpassword = shellState.getReader().readLine(\"Enter new password for \\'\" + user + \"\\': \", \\'*\\');\\n+\\t\\tif (password == null) {\\n+\\t\\t\\tshellState.getReader().printNewline();\\n+\\t\\t\\treturn 0;\\n+\\t\\t} // user canceled\\n+\\t\\tpasswordConfirm = shellState.getReader().readLine(\"Please confirm new password for \\'\" + user + \"\\': \", \\'*\\');\\n+\\t\\tif (passwordConfirm == null) {\\n+\\t\\t\\tshellState.getReader().printNewline();\\n+\\t\\t\\treturn 0;\\n+\\t\\t} // user canceled\\n+\\n+\\t\\tif (!password.equals(passwordConfirm))\\n+\\t\\t\\tthrow new IllegalArgumentException(\"Passwords do not match\");\\n+\\n+\\t\\tbyte[] pass = password.getBytes();\\n+\\t\\tshellState.getConnector().securityOperations().changeUserPassword(user, pass);\\n+\\t\\t// update the current credentials if the password changed was for\\n+\\t\\t// the current user\\n+\\t\\tif (shellState.getConnector().whoami().equals(user))\\n+\\t\\t\\tshellState.updateUser(new AuthInfo(user, ByteBuffer.wrap(pass), shellState.getConnector().getInstance().getInstanceID()));\\n+\\t\\tShell.log.debug(\"Changed password for user \" + user);\\n+\\t\\treturn 0;\\n+\\t}\\n+\\n+\\t@Override\\n+\\tpublic String description() {\\n+\\t\\treturn \"changes a user\\'s password\";\\n+\\t}\\n+\\n+\\t@Override\\n+\\tpublic Options getOptions() {\\n+\\t\\tOptions o = new Options();\\n+\\t\\tuserOpt = new Option(Shell.userOption, \"user\", true, \"user to operate on\");\\n+\\t\\tuserOpt.setArgName(\"user\");\\n+\\t\\to.addOption(userOpt);\\n+\\t\\treturn o;\\n+\\t}\\n+\\n+\\t@Override\\n+\\tpublic int numArgs() {\\n+\\t\\treturn 0;\\n+\\t}\\n+}\\n\\\\ No newline at end of file\\n'"
            ]
          },
          "metadata": {},
          "execution_count": 29
        }
      ]
    },
    {
      "cell_type": "code",
      "metadata": {
        "colab": {
          "base_uri": "https://localhost:8080/"
        },
        "id": "tCg-a4mGsp_L",
        "outputId": "0b8bd094-a2d3-44d4-dcd3-a80034664ee3"
      },
      "source": [
        "# commitHash column\n",
        "print('data type:', commit_changes.commitHash.dtype, '\\n')\n",
        "print('number of distinct commitHash:', len(commit_changes.commitHash.unique()),'\\n')\n",
        "print('number of null values in the column:', sum(commit_changes.commitHash.isnull()),'\\n')\n",
        "print('Examples and count of commitHash:\\n', commit_changes.commitHash.value_counts()[:5], '\\n', sep = '')  \n",
        "print(sum(commit_changes.commitHash.isin(commits.commitHash))/len(commit_changes)*100, '% are contained in commits dataframe')  # why aren't all of them???"
      ],
      "execution_count": null,
      "outputs": [
        {
          "output_type": "stream",
          "name": "stdout",
          "text": [
            "data type: object \n",
            "\n",
            "number of distinct commitHash: 128279 \n",
            "\n",
            "number of null values in the column: 0 \n",
            "\n",
            "Examples and count of commitHash:\n",
            "a3eb94e3be8dd650cf1673298c77844ae99ca36e    6066\n",
            "a0ec7eff1b9509905f1317dbaa09a688639c46ea    5800\n",
            "b4950bfc80ed1352e70133fbfb03d8016339307f    4608\n",
            "523ebcb257546d8d229f1baa2224e07fe54f07d1    3442\n",
            "d680af8057a40ab38ab2866799eb9150283c6a4c    2676\n",
            "Name: commitHash, dtype: int64\n",
            "\n",
            "100.0 % are contained in commits dataframe\n"
          ]
        }
      ]
    },
    {
      "cell_type": "markdown",
      "metadata": {
        "id": "ihYxRWqa0yO8"
      },
      "source": [
        "#### VISUALIZATIONS"
      ]
    },
    {
      "cell_type": "code",
      "metadata": {
        "id": "oCwrzNjYeasa"
      },
      "source": [
        "# aggregate commits by project name and number of commits\n",
        "commits_count = pd.DataFrame(commits[['projectID','commitHash']].groupby('projectID').count()).reset_index().sort_values('commitHash', ascending=False)"
      ],
      "execution_count": null,
      "outputs": []
    },
    {
      "cell_type": "code",
      "metadata": {
        "id": "-nlql40eh2sR"
      },
      "source": [
        "# aggregate commits by project name and number of commits\n",
        "refactoring_count = pd.DataFrame(refactoring[['projectID','commitHash']].groupby('projectID').count()).reset_index().sort_values('commitHash', ascending=False)"
      ],
      "execution_count": null,
      "outputs": []
    },
    {
      "cell_type": "code",
      "metadata": {
        "id": "tAGQk2xvePNf"
      },
      "source": [
        "# aggregate faults by project name and number of commits\n",
        "faults_count = pd.DataFrame(faults[['projectID','faultFixingCommitHash']].groupby('projectID').count()).reset_index().sort_values('faultFixingCommitHash', ascending=False)"
      ],
      "execution_count": null,
      "outputs": []
    },
    {
      "cell_type": "code",
      "metadata": {
        "colab": {
          "base_uri": "https://localhost:8080/",
          "height": 204
        },
        "id": "COz9CcKLm-2Q",
        "outputId": "502bf900-f34d-416f-c87e-8a658c1a5feb"
      },
      "source": [
        "faults_count.head()"
      ],
      "execution_count": null,
      "outputs": [
        {
          "output_type": "execute_result",
          "data": {
            "text/html": [
              "<div>\n",
              "<style scoped>\n",
              "    .dataframe tbody tr th:only-of-type {\n",
              "        vertical-align: middle;\n",
              "    }\n",
              "\n",
              "    .dataframe tbody tr th {\n",
              "        vertical-align: top;\n",
              "    }\n",
              "\n",
              "    .dataframe thead th {\n",
              "        text-align: right;\n",
              "    }\n",
              "</style>\n",
              "<table border=\"1\" class=\"dataframe\">\n",
              "  <thead>\n",
              "    <tr style=\"text-align: right;\">\n",
              "      <th></th>\n",
              "      <th>projectID</th>\n",
              "      <th>faultFixingCommitHash</th>\n",
              "    </tr>\n",
              "  </thead>\n",
              "  <tbody>\n",
              "    <tr>\n",
              "      <th>0</th>\n",
              "      <td>accumulo</td>\n",
              "      <td>9606</td>\n",
              "    </tr>\n",
              "    <tr>\n",
              "      <th>1</th>\n",
              "      <td>ambari</td>\n",
              "      <td>7110</td>\n",
              "    </tr>\n",
              "    <tr>\n",
              "      <th>27</th>\n",
              "      <td>felix</td>\n",
              "      <td>5424</td>\n",
              "    </tr>\n",
              "    <tr>\n",
              "      <th>30</th>\n",
              "      <td>mina-sshd</td>\n",
              "      <td>1588</td>\n",
              "    </tr>\n",
              "    <tr>\n",
              "      <th>2</th>\n",
              "      <td>atlas</td>\n",
              "      <td>1093</td>\n",
              "    </tr>\n",
              "  </tbody>\n",
              "</table>\n",
              "</div>"
            ],
            "text/plain": [
              "    projectID  faultFixingCommitHash\n",
              "0    accumulo                   9606\n",
              "1      ambari                   7110\n",
              "27      felix                   5424\n",
              "30  mina-sshd                   1588\n",
              "2       atlas                   1093"
            ]
          },
          "metadata": {},
          "execution_count": 36
        }
      ]
    },
    {
      "cell_type": "code",
      "metadata": {
        "id": "WQph9aXgiSew"
      },
      "source": [
        "counts = commits_count.merge(refactoring_count, on = 'projectID', suffixes = ['_commits','_refactorings']).merge(faults_count, on = 'projectID')\n",
        "counts.rename(columns = {'commitHash_commits':'commits','commitHash_refactorings':'refactorings','faultFixingCommitHash':'faults'}, inplace=True)"
      ],
      "execution_count": null,
      "outputs": []
    },
    {
      "cell_type": "code",
      "metadata": {
        "colab": {
          "base_uri": "https://localhost:8080/",
          "height": 142
        },
        "id": "u4WdbpLtimaG",
        "outputId": "5b90330f-8e1c-4a08-d441-f0bceb716cba"
      },
      "source": [
        "counts.head(3)"
      ],
      "execution_count": null,
      "outputs": [
        {
          "output_type": "execute_result",
          "data": {
            "text/html": [
              "<div>\n",
              "<style scoped>\n",
              "    .dataframe tbody tr th:only-of-type {\n",
              "        vertical-align: middle;\n",
              "    }\n",
              "\n",
              "    .dataframe tbody tr th {\n",
              "        vertical-align: top;\n",
              "    }\n",
              "\n",
              "    .dataframe thead th {\n",
              "        text-align: right;\n",
              "    }\n",
              "</style>\n",
              "<table border=\"1\" class=\"dataframe\">\n",
              "  <thead>\n",
              "    <tr style=\"text-align: right;\">\n",
              "      <th></th>\n",
              "      <th>projectID</th>\n",
              "      <th>commits</th>\n",
              "      <th>refactorings</th>\n",
              "      <th>faults</th>\n",
              "    </tr>\n",
              "  </thead>\n",
              "  <tbody>\n",
              "    <tr>\n",
              "      <th>0</th>\n",
              "      <td>ambari</td>\n",
              "      <td>24578</td>\n",
              "      <td>342</td>\n",
              "      <td>7110</td>\n",
              "    </tr>\n",
              "    <tr>\n",
              "      <th>1</th>\n",
              "      <td>beam</td>\n",
              "      <td>22332</td>\n",
              "      <td>10104</td>\n",
              "      <td>51</td>\n",
              "    </tr>\n",
              "    <tr>\n",
              "      <th>2</th>\n",
              "      <td>felix</td>\n",
              "      <td>15427</td>\n",
              "      <td>6609</td>\n",
              "      <td>5424</td>\n",
              "    </tr>\n",
              "  </tbody>\n",
              "</table>\n",
              "</div>"
            ],
            "text/plain": [
              "  projectID  commits  refactorings  faults\n",
              "0    ambari    24578           342    7110\n",
              "1      beam    22332         10104      51\n",
              "2     felix    15427          6609    5424"
            ]
          },
          "metadata": {},
          "execution_count": 38
        }
      ]
    },
    {
      "cell_type": "code",
      "metadata": {
        "colab": {
          "base_uri": "https://localhost:8080/",
          "height": 509
        },
        "id": "vQOF7K9afTxd",
        "outputId": "5b855c20-ffa2-4357-e1d1-1406d5037d2c"
      },
      "source": [
        "plt.figure(figsize=(15,7))\n",
        "plt.bar(commits_count.projectID, commits_count.commitHash)\n",
        "plt.xticks(rotation=45)\n",
        "plt.show()"
      ],
      "execution_count": null,
      "outputs": [
        {
          "output_type": "display_data",
          "data": {
            "image/png": "[encoded data removed]",
            "text/plain": [
              "<Figure size 1080x504 with 1 Axes>"
            ]
          },
          "metadata": {
            "needs_background": "light"
          }
        }
      ]
    },
    {
      "cell_type": "code",
      "metadata": {
        "colab": {
          "base_uri": "https://localhost:8080/",
          "height": 509
        },
        "id": "dpsyhfOUiGMG",
        "outputId": "ab63dd2c-bdee-44a2-89f3-46e0aae8294e"
      },
      "source": [
        "plt.figure(figsize=(15,7))\n",
        "plt.bar(refactoring_count.projectID, refactoring_count.commitHash)\n",
        "plt.xticks(rotation=45)\n",
        "plt.show()"
      ],
      "execution_count": null,
      "outputs": [
        {
          "output_type": "display_data",
          "data": {
            "image/png": "[encoded data removed]",
            "text/plain": [
              "<Figure size 1080x504 with 1 Axes>"
            ]
          },
          "metadata": {
            "needs_background": "light"
          }
        }
      ]
    },
    {
      "cell_type": "code",
      "metadata": {
        "colab": {
          "base_uri": "https://localhost:8080/",
          "height": 510
        },
        "id": "Dbk9hIF5mvJh",
        "outputId": "a952199f-ed58-4cec-82b0-8c3b5b3e5c8a"
      },
      "source": [
        "plt.figure(figsize=(15,7))\n",
        "plt.bar(faults_count.projectID, faults_count.faultFixingCommitHash)\n",
        "plt.xticks(rotation=45)\n",
        "plt.show()"
      ],
      "execution_count": null,
      "outputs": [
        {
          "output_type": "display_data",
          "data": {
            "image/png": "[encoded data removed]",
            "text/plain": [
              "<Figure size 1080x504 with 1 Axes>"
            ]
          },
          "metadata": {
            "needs_background": "light"
          }
        }
      ]
    },
    {
      "cell_type": "code",
      "metadata": {
        "colab": {
          "base_uri": "https://localhost:8080/",
          "height": 540
        },
        "id": "jccT5H6mt31t",
        "outputId": "5f134f68-856b-4f15-8c65-840d621335ef"
      },
      "source": [
        "counts.set_index('projectID').plot(kind='bar', figsize=(20,7), rot=45, width=0.65)"
      ],
      "execution_count": null,
      "outputs": [
        {
          "output_type": "execute_result",
          "data": {
            "text/plain": [
              "<matplotlib.axes._subplots.AxesSubplot at 0x7f2edf934b90>"
            ]
          },
          "metadata": {},
          "execution_count": 69
        },
        {
          "output_type": "display_data",
          "data": {
            "image/png": "[encoded data removed]",
            "text/plain": [
              "<Figure size 1440x504 with 1 Axes>"
            ]
          },
          "metadata": {
            "needs_background": "light"
          }
        }
      ]
    },
    {
      "cell_type": "code",
      "metadata": {
        "colab": {
          "base_uri": "https://localhost:8080/",
          "height": 198
        },
        "id": "PmoiHrUJsRVm",
        "outputId": "143e1c8d-68e6-4fc3-f560-6a929605bc58"
      },
      "source": [
        "plt.figure(figsize=(15,7))\n",
        "plt.bar(counts.set_index('projectID'))\n",
        "plt.show()"
      ],
      "execution_count": null,
      "outputs": [
        {
          "output_type": "error",
          "ename": "TypeError",
          "evalue": "ignored",
          "traceback": [
            "\u001b[0;31m---------------------------------------------------------------------------\u001b[0m",
            "\u001b[0;31mTypeError\u001b[0m                                 Traceback (most recent call last)",
            "\u001b[0;32m<ipython-input-58-29e6f0f42d4f>\u001b[0m in \u001b[0;36m<module>\u001b[0;34m()\u001b[0m\n\u001b[0;32m----> 1\u001b[0;31m \u001b[0mplt\u001b[0m\u001b[0;34m.\u001b[0m\u001b[0mfigure\u001b[0m\u001b[0;34m(\u001b[0m\u001b[0mfigsize\u001b[0m\u001b[0;34m=\u001b[0m\u001b[0;34m(\u001b[0m\u001b[0;36m15\u001b[0m\u001b[0;34m,\u001b[0m\u001b[0;36m7\u001b[0m\u001b[0;34m)\u001b[0m\u001b[0;34m)\u001b[0m\u001b[0;34m\u001b[0m\u001b[0;34m\u001b[0m\u001b[0m\n\u001b[0m\u001b[1;32m      2\u001b[0m \u001b[0mplt\u001b[0m\u001b[0;34m.\u001b[0m\u001b[0mbar\u001b[0m\u001b[0;34m(\u001b[0m\u001b[0mcounts\u001b[0m\u001b[0;34m.\u001b[0m\u001b[0mset_index\u001b[0m\u001b[0;34m(\u001b[0m\u001b[0;34m'projectID'\u001b[0m\u001b[0;34m)\u001b[0m\u001b[0;34m)\u001b[0m\u001b[0;34m\u001b[0m\u001b[0;34m\u001b[0m\u001b[0m\n\u001b[1;32m      3\u001b[0m \u001b[0mplt\u001b[0m\u001b[0;34m.\u001b[0m\u001b[0mshow\u001b[0m\u001b[0;34m(\u001b[0m\u001b[0;34m)\u001b[0m\u001b[0;34m\u001b[0m\u001b[0;34m\u001b[0m\u001b[0m\n",
            "\u001b[0;31mTypeError\u001b[0m: 'Figure' object is not callable"
          ]
        }
      ]
    },
    {
      "cell_type": "code",
      "metadata": {
        "colab": {
          "base_uri": "https://localhost:8080/",
          "height": 204
        },
        "id": "Df12ltvssyKQ",
        "outputId": "83b95e15-54b7-4bb6-f0b3-e829ee06d312"
      },
      "source": [
        "\n",
        "counts.head()"
      ],
      "execution_count": null,
      "outputs": [
        {
          "output_type": "execute_result",
          "data": {
            "text/html": [
              "<div>\n",
              "<style scoped>\n",
              "    .dataframe tbody tr th:only-of-type {\n",
              "        vertical-align: middle;\n",
              "    }\n",
              "\n",
              "    .dataframe tbody tr th {\n",
              "        vertical-align: top;\n",
              "    }\n",
              "\n",
              "    .dataframe thead th {\n",
              "        text-align: right;\n",
              "    }\n",
              "</style>\n",
              "<table border=\"1\" class=\"dataframe\">\n",
              "  <thead>\n",
              "    <tr style=\"text-align: right;\">\n",
              "      <th></th>\n",
              "      <th>projectID</th>\n",
              "      <th>commits</th>\n",
              "      <th>refactorings</th>\n",
              "      <th>faults</th>\n",
              "    </tr>\n",
              "  </thead>\n",
              "  <tbody>\n",
              "    <tr>\n",
              "      <th>0</th>\n",
              "      <td>ambari</td>\n",
              "      <td>24578</td>\n",
              "      <td>342</td>\n",
              "      <td>7110</td>\n",
              "    </tr>\n",
              "    <tr>\n",
              "      <th>1</th>\n",
              "      <td>beam</td>\n",
              "      <td>22332</td>\n",
              "      <td>10104</td>\n",
              "      <td>51</td>\n",
              "    </tr>\n",
              "    <tr>\n",
              "      <th>2</th>\n",
              "      <td>felix</td>\n",
              "      <td>15427</td>\n",
              "      <td>6609</td>\n",
              "      <td>5424</td>\n",
              "    </tr>\n",
              "    <tr>\n",
              "      <th>3</th>\n",
              "      <td>cocoon</td>\n",
              "      <td>13160</td>\n",
              "      <td>3447</td>\n",
              "      <td>227</td>\n",
              "    </tr>\n",
              "    <tr>\n",
              "      <th>4</th>\n",
              "      <td>accumulo</td>\n",
              "      <td>10122</td>\n",
              "      <td>368</td>\n",
              "      <td>9606</td>\n",
              "    </tr>\n",
              "  </tbody>\n",
              "</table>\n",
              "</div>"
            ],
            "text/plain": [
              "  projectID  commits  refactorings  faults\n",
              "0    ambari    24578           342    7110\n",
              "1      beam    22332         10104      51\n",
              "2     felix    15427          6609    5424\n",
              "3    cocoon    13160          3447     227\n",
              "4  accumulo    10122           368    9606"
            ]
          },
          "metadata": {},
          "execution_count": 47
        }
      ]
    },
    {
      "cell_type": "code",
      "metadata": {
        "colab": {
          "base_uri": "https://localhost:8080/",
          "height": 432
        },
        "id": "zBAc_8Fai1i1",
        "outputId": "8faed045-1586-4225-cdc3-047233f1497b"
      },
      "source": [
        "plt.figure(figsize=(20,7))\n",
        "plt.subplot(1, 3, 1)\n",
        "plt.scatter(counts.commits, counts.refactorings, label = \"label_name\" )\n",
        "ax = plt.gca()\n",
        "ax.set_yscale('log')\n",
        "ax.set_xscale('log')\n",
        "plt.subplot(1, 3, 2)\n",
        "plt.scatter(counts.commits, counts.faults, label = \"label_name\" )\n",
        "ax = plt.gca()\n",
        "ax.set_yscale('log')\n",
        "ax.set_xscale('log')\n",
        "plt.subplot(1, 3, 3)\n",
        "plt.scatter(counts.refactorings, counts.faults, label = \"label_name\" )\n",
        "ax = plt.gca()\n",
        "ax.set_yscale('log')\n",
        "ax.set_xscale('log')\n",
        "# add a plot looking for the relative measures: refactorings/commits - faults"
      ],
      "execution_count": null,
      "outputs": [
        {
          "output_type": "display_data",
          "data": {
            "image/png": "[encoded data removed]",
            "text/plain": [
              "<Figure size 1440x504 with 3 Axes>"
            ]
          },
          "metadata": {
            "needs_background": "light"
          }
        }
      ]
    },
    {
      "cell_type": "code",
      "metadata": {
        "colab": {
          "base_uri": "https://localhost:8080/",
          "height": 285
        },
        "id": "wDCe_r5pnkGU",
        "outputId": "e0b25f63-beeb-4d76-e398-504b482f00ec"
      },
      "source": [
        "plt.scatter(counts.commits, counts.faults, label = \"label_name\" )"
      ],
      "execution_count": null,
      "outputs": [
        {
          "output_type": "execute_result",
          "data": {
            "text/plain": [
              "<matplotlib.collections.PathCollection at 0x7f2ee1a60ed0>"
            ]
          },
          "metadata": {},
          "execution_count": 43
        },
        {
          "output_type": "display_data",
          "data": {
            "image/png": "[encoded data removed]",
            "text/plain": [
              "<Figure size 432x288 with 1 Axes>"
            ]
          },
          "metadata": {
            "needs_background": "light"
          }
        }
      ]
    },
    {
      "cell_type": "markdown",
      "metadata": {
        "id": "Y5_tdafqVrEQ"
      },
      "source": [
        "# Selecting the appropiate period of time"
      ]
    },
    {
      "cell_type": "code",
      "metadata": {
        "colab": {
          "base_uri": "https://localhost:8080/"
        },
        "id": "8Avmqvf6Vxgh",
        "outputId": "ed151d95-60a0-4bd9-819b-9c994a7f21d5"
      },
      "source": [
        "!find -name TAED"
      ],
      "execution_count": null,
      "outputs": [
        {
          "output_type": "stream",
          "name": "stdout",
          "text": [
            "^C\n"
          ]
        }
      ]
    },
    {
      "cell_type": "code",
      "metadata": {
        "id": "85m5aqKCqyhF"
      },
      "source": [
        "#commits = pd.read_csv('/content/drive/My Drive/TAED 2 lab1/data v1/GIT_COMMITS.csv') #select the desired path of the file \n",
        "commits = pd.read_csv('drive/MyDrive/arap/GIT_COMMITS.csv') #select the desired path of the file "
      ],
      "execution_count": null,
      "outputs": []
    },
    {
      "cell_type": "code",
      "metadata": {
        "id": "IClE-1cIVNt0"
      },
      "source": [
        "# Aggregate by date and visualize\n",
        "# Convert to datetime date, without hour, only date  (it would also be cool to see if there are more faults in the night/ evening than during the day)\n",
        "#date_count = pd.DataFrame(commits[['COMMITER_DATE']].count()).reset_index()\n",
        "dates = [datetime.date.fromisoformat(commits['COMMITER_DATE'][i].split(\"T\")[0].split(\" \")[0]) for i in range(len(commits['COMMITER_DATE']))]\n",
        "dates_df = pd.DataFrame(dates, columns =['COMMITER_DATE'])"
      ],
      "execution_count": null,
      "outputs": []
    },
    {
      "cell_type": "code",
      "metadata": {
        "colab": {
          "base_uri": "https://localhost:8080/"
        },
        "id": "hlGHE3klXiIi",
        "outputId": "e2d70f74-377f-43ca-c43a-3b6fd7ab3324"
      },
      "source": [
        "import datetime\n",
        "c = commits.loc[0,'COMMITER_DATE']\n",
        "c = datetime.date.fromisoformat(c.split(\"T\")[0])\n",
        "print(c)"
      ],
      "execution_count": null,
      "outputs": [
        {
          "output_type": "stream",
          "name": "stdout",
          "text": [
            "2000-10-01\n"
          ]
        }
      ]
    },
    {
      "cell_type": "code",
      "metadata": {
        "colab": {
          "base_uri": "https://localhost:8080/"
        },
        "id": "SFOume7HgCbj",
        "outputId": "67e28061-c9e8-4f2b-9b4d-4a16776aa531"
      },
      "source": [
        "dates_df['COMMITER_DATE'].value_counts()"
      ],
      "execution_count": null,
      "outputs": [
        {
          "output_type": "execute_result",
          "data": {
            "text/plain": [
              "2016-03-05      1\n",
              "2015-10-07      1\n",
              "2014-12-14      1\n",
              "2013-12-01      1\n",
              "2017-01-15      1\n",
              "             ... \n",
              "2007-02-12     93\n",
              "2007-07-31    102\n",
              "2009-07-21    104\n",
              "2011-05-22    132\n",
              "2009-09-15    181\n",
              "Name: COMMITER_DATE, Length: 6446, dtype: int64"
            ]
          },
          "metadata": {},
          "execution_count": 61
        }
      ]
    }
  ]
}